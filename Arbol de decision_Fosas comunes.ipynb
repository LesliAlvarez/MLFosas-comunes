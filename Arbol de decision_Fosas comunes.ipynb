{
 "cells": [
  {
   "cell_type": "code",
   "execution_count": 55,
   "id": "1446ce4a",
   "metadata": {},
   "outputs": [],
   "source": [
    "import pandas as pd\n",
    "import numpy as np\n",
    "import matplotlib.pyplot as plt\n",
    "from sklearn.tree import DecisionTreeClassifier\n",
    "from sklearn.tree import plot_tree\n",
    "from sklearn.model_selection import train_test_split\n",
    "from sklearn.model_selection import cross_val_score\n",
    "\n",
    "from sklearn.linear_model import LogisticRegression\n",
    "from sklearn import datasets\n",
    "from sklearn.metrics import confusion_matrix,accuracy_score, classification_report, roc_curve\n"
   ]
  },
  {
   "cell_type": "code",
   "execution_count": 56,
   "id": "577f5c69",
   "metadata": {},
   "outputs": [],
   "source": [
    "df = pd.read_csv(\"Fosas comunes.csv\")"
   ]
  },
  {
   "cell_type": "code",
   "execution_count": 57,
   "id": "da82a6c4",
   "metadata": {},
   "outputs": [
    {
     "data": {
      "text/html": [
       "<div>\n",
       "<style scoped>\n",
       "    .dataframe tbody tr th:only-of-type {\n",
       "        vertical-align: middle;\n",
       "    }\n",
       "\n",
       "    .dataframe tbody tr th {\n",
       "        vertical-align: top;\n",
       "    }\n",
       "\n",
       "    .dataframe thead th {\n",
       "        text-align: right;\n",
       "    }\n",
       "</style>\n",
       "<table border=\"1\" class=\"dataframe\">\n",
       "  <thead>\n",
       "    <tr style=\"text-align: right;\">\n",
       "      <th></th>\n",
       "      <th>ID</th>\n",
       "      <th>Estado_origen</th>\n",
       "      <th>Municipio_origen</th>\n",
       "      <th>Panteón_origen</th>\n",
       "      <th>Estatus_FC</th>\n",
       "      <th>Fecha_inhumación</th>\n",
       "      <th>Día_inhumación</th>\n",
       "      <th>Mes_inhumación</th>\n",
       "      <th>Año_inhumación</th>\n",
       "      <th>Fecha_defunción</th>\n",
       "      <th>...</th>\n",
       "      <th>Edad</th>\n",
       "      <th>Conocido_Desconocido</th>\n",
       "      <th>Primer apellido</th>\n",
       "      <th>Segundo Apellido</th>\n",
       "      <th>Nombre(s)</th>\n",
       "      <th>Nombre completo</th>\n",
       "      <th>Institución_origen</th>\n",
       "      <th>Rdoc</th>\n",
       "      <th>Marca_temporal</th>\n",
       "      <th>Datos alternativos</th>\n",
       "    </tr>\n",
       "  </thead>\n",
       "  <tbody>\n",
       "    <tr>\n",
       "      <th>0</th>\n",
       "      <td>XX-P001</td>\n",
       "      <td>Ciudad de México</td>\n",
       "      <td>Miguel Hidalgo</td>\n",
       "      <td>Panteón Civil de Dolores</td>\n",
       "      <td>Inhumación</td>\n",
       "      <td>30/01/2019</td>\n",
       "      <td>30</td>\n",
       "      <td>1</td>\n",
       "      <td>2019</td>\n",
       "      <td>04/03/2018</td>\n",
       "      <td>...</td>\n",
       "      <td>55.0</td>\n",
       "      <td>Desconocido</td>\n",
       "      <td>NaN</td>\n",
       "      <td>NaN</td>\n",
       "      <td>NaN</td>\n",
       "      <td></td>\n",
       "      <td>UNIVERSIDAD WESTHILL - FACULTAD DE MEDICINA</td>\n",
       "      <td>Sí</td>\n",
       "      <td>23/03/2020</td>\n",
       "      <td>NaN</td>\n",
       "    </tr>\n",
       "    <tr>\n",
       "      <th>1</th>\n",
       "      <td>XX-P002</td>\n",
       "      <td>Ciudad de México</td>\n",
       "      <td>Miguel Hidalgo</td>\n",
       "      <td>Panteón Civil de Dolores</td>\n",
       "      <td>Inhumación</td>\n",
       "      <td>26/01/2019</td>\n",
       "      <td>26</td>\n",
       "      <td>1</td>\n",
       "      <td>2019</td>\n",
       "      <td>12/12/2018</td>\n",
       "      <td>...</td>\n",
       "      <td>NaN</td>\n",
       "      <td>Desconocido</td>\n",
       "      <td>NaN</td>\n",
       "      <td>NaN</td>\n",
       "      <td>NaN</td>\n",
       "      <td></td>\n",
       "      <td>INSTITUTO DE CIENCIAS FORENSES - TRIBUNAL SUPE...</td>\n",
       "      <td>Sí</td>\n",
       "      <td>23/03/2020</td>\n",
       "      <td>NaN</td>\n",
       "    </tr>\n",
       "    <tr>\n",
       "      <th>2</th>\n",
       "      <td>XX-P003</td>\n",
       "      <td>Ciudad de México</td>\n",
       "      <td>Miguel Hidalgo</td>\n",
       "      <td>Panteón Civil de Dolores</td>\n",
       "      <td>Inhumación</td>\n",
       "      <td>26/01/2019</td>\n",
       "      <td>26</td>\n",
       "      <td>1</td>\n",
       "      <td>2019</td>\n",
       "      <td>13/12/2018</td>\n",
       "      <td>...</td>\n",
       "      <td>NaN</td>\n",
       "      <td>Conocido</td>\n",
       "      <td>Cruz</td>\n",
       "      <td>Lucero</td>\n",
       "      <td>Alberto</td>\n",
       "      <td>Alberto Cruz Lucero</td>\n",
       "      <td>INSTITUTO DE CIENCIAS FORENSES - TRIBUNAL SUPE...</td>\n",
       "      <td>Sí</td>\n",
       "      <td>23/03/2020</td>\n",
       "      <td>NaN</td>\n",
       "    </tr>\n",
       "    <tr>\n",
       "      <th>3</th>\n",
       "      <td>XX-P004</td>\n",
       "      <td>Ciudad de México</td>\n",
       "      <td>Miguel Hidalgo</td>\n",
       "      <td>Panteón Civil de Dolores</td>\n",
       "      <td>Inhumación</td>\n",
       "      <td>26/01/2019</td>\n",
       "      <td>26</td>\n",
       "      <td>1</td>\n",
       "      <td>2019</td>\n",
       "      <td>14/12/2018</td>\n",
       "      <td>...</td>\n",
       "      <td>NaN</td>\n",
       "      <td>Desconocido</td>\n",
       "      <td>NaN</td>\n",
       "      <td>NaN</td>\n",
       "      <td>NaN</td>\n",
       "      <td></td>\n",
       "      <td>INSTITUTO DE CIENCIAS FORENSES - TRIBUNAL SUPE...</td>\n",
       "      <td>Sí</td>\n",
       "      <td>23/03/2020</td>\n",
       "      <td>NaN</td>\n",
       "    </tr>\n",
       "    <tr>\n",
       "      <th>4</th>\n",
       "      <td>XX-P005</td>\n",
       "      <td>Ciudad de México</td>\n",
       "      <td>Miguel Hidalgo</td>\n",
       "      <td>Panteón Civil de Dolores</td>\n",
       "      <td>Inhumación</td>\n",
       "      <td>26/01/2019</td>\n",
       "      <td>26</td>\n",
       "      <td>1</td>\n",
       "      <td>2019</td>\n",
       "      <td>18/12/2018</td>\n",
       "      <td>...</td>\n",
       "      <td>NaN</td>\n",
       "      <td>Desconocido</td>\n",
       "      <td>NaN</td>\n",
       "      <td>NaN</td>\n",
       "      <td>NaN</td>\n",
       "      <td></td>\n",
       "      <td>INSTITUTO DE CIENCIAS FORENSES - TRIBUNAL SUPE...</td>\n",
       "      <td>Sí</td>\n",
       "      <td>23/03/2020</td>\n",
       "      <td>NaN</td>\n",
       "    </tr>\n",
       "  </tbody>\n",
       "</table>\n",
       "<p>5 rows × 26 columns</p>\n",
       "</div>"
      ],
      "text/plain": [
       "        ID     Estado_origen Municipio_origen            Panteón_origen  \\\n",
       "0  XX-P001  Ciudad de México   Miguel Hidalgo  Panteón Civil de Dolores   \n",
       "1  XX-P002  Ciudad de México   Miguel Hidalgo  Panteón Civil de Dolores   \n",
       "2  XX-P003  Ciudad de México   Miguel Hidalgo  Panteón Civil de Dolores   \n",
       "3  XX-P004  Ciudad de México   Miguel Hidalgo  Panteón Civil de Dolores   \n",
       "4  XX-P005  Ciudad de México   Miguel Hidalgo  Panteón Civil de Dolores   \n",
       "\n",
       "   Estatus_FC Fecha_inhumación Día_inhumación Mes_inhumación Año_inhumación  \\\n",
       "0  Inhumación       30/01/2019             30              1           2019   \n",
       "1  Inhumación       26/01/2019             26              1           2019   \n",
       "2  Inhumación       26/01/2019             26              1           2019   \n",
       "3  Inhumación       26/01/2019             26              1           2019   \n",
       "4  Inhumación       26/01/2019             26              1           2019   \n",
       "\n",
       "  Fecha_defunción  ...  Edad Conocido_Desconocido Primer apellido  \\\n",
       "0      04/03/2018  ...  55.0          Desconocido             NaN   \n",
       "1      12/12/2018  ...   NaN          Desconocido             NaN   \n",
       "2      13/12/2018  ...   NaN             Conocido            Cruz   \n",
       "3      14/12/2018  ...   NaN          Desconocido             NaN   \n",
       "4      18/12/2018  ...   NaN          Desconocido             NaN   \n",
       "\n",
       "  Segundo Apellido Nombre(s)      Nombre completo  \\\n",
       "0              NaN       NaN                        \n",
       "1              NaN       NaN                        \n",
       "2           Lucero   Alberto  Alberto Cruz Lucero   \n",
       "3              NaN       NaN                        \n",
       "4              NaN       NaN                        \n",
       "\n",
       "                                  Institución_origen Rdoc Marca_temporal  \\\n",
       "0        UNIVERSIDAD WESTHILL - FACULTAD DE MEDICINA   Sí     23/03/2020   \n",
       "1  INSTITUTO DE CIENCIAS FORENSES - TRIBUNAL SUPE...   Sí     23/03/2020   \n",
       "2  INSTITUTO DE CIENCIAS FORENSES - TRIBUNAL SUPE...   Sí     23/03/2020   \n",
       "3  INSTITUTO DE CIENCIAS FORENSES - TRIBUNAL SUPE...   Sí     23/03/2020   \n",
       "4  INSTITUTO DE CIENCIAS FORENSES - TRIBUNAL SUPE...   Sí     23/03/2020   \n",
       "\n",
       "  Datos alternativos  \n",
       "0                NaN  \n",
       "1                NaN  \n",
       "2                NaN  \n",
       "3                NaN  \n",
       "4                NaN  \n",
       "\n",
       "[5 rows x 26 columns]"
      ]
     },
     "execution_count": 57,
     "metadata": {},
     "output_type": "execute_result"
    }
   ],
   "source": [
    "df.head()"
   ]
  },
  {
   "cell_type": "code",
   "execution_count": 58,
   "id": "b83007d6",
   "metadata": {},
   "outputs": [],
   "source": [
    "#Reemplazamos los datos faltantes de la variable Edad\n",
    "df['Edad'] = df['Edad'].replace(',np.nan')\n",
    "median_Edad = df['Edad'].median(skipna=True)"
   ]
  },
  {
   "cell_type": "code",
   "execution_count": 59,
   "id": "fc1a536e",
   "metadata": {},
   "outputs": [
    {
     "data": {
      "text/plain": [
       "0        55.0\n",
       "1        47.0\n",
       "2        47.0\n",
       "3        47.0\n",
       "4        47.0\n",
       "         ... \n",
       "21014    47.0\n",
       "21015    47.0\n",
       "21016    53.0\n",
       "21017    45.0\n",
       "21018    42.0\n",
       "Name: Edad, Length: 21019, dtype: float64"
      ]
     },
     "execution_count": 59,
     "metadata": {},
     "output_type": "execute_result"
    }
   ],
   "source": [
    "df['Edad'] = df['Edad'].replace(np.nan, median_Edad).astype(float)\n",
    "df['Edad']"
   ]
  },
  {
   "cell_type": "code",
   "execution_count": 60,
   "id": "354f777e",
   "metadata": {},
   "outputs": [
    {
     "data": {
      "text/plain": [
       "ID                       object\n",
       "Estado_origen            object\n",
       "Municipio_origen         object\n",
       "Panteón_origen           object\n",
       "Estatus_FC               object\n",
       "Fecha_inhumación         object\n",
       "Día_inhumación           object\n",
       "Mes_inhumación           object\n",
       "Año_inhumación           object\n",
       "Fecha_defunción          object\n",
       "Día_defunción            object\n",
       "Mes_defunción            object\n",
       "Año_defunción            object\n",
       "Fecha_exhumación         object\n",
       "Restos_tipo              object\n",
       "Sexo                     object\n",
       "Edad                    float64\n",
       "Conocido_Desconocido     object\n",
       "Primer apellido          object\n",
       "Segundo Apellido         object\n",
       "Nombre(s)                object\n",
       "Nombre completo          object\n",
       "Institución_origen       object\n",
       "Rdoc                     object\n",
       "Marca_temporal           object\n",
       "Datos alternativos      float64\n",
       "dtype: object"
      ]
     },
     "execution_count": 60,
     "metadata": {},
     "output_type": "execute_result"
    }
   ],
   "source": [
    "#Identificar datos faltantes\n",
    "df.dtypes"
   ]
  },
  {
   "cell_type": "code",
   "execution_count": 61,
   "id": "a4097793",
   "metadata": {},
   "outputs": [
    {
     "data": {
      "text/plain": [
       "array(['Miguel Hidalgo', 'Xalapa', 'Hermosillo', 'Heroica Guaymas',\n",
       "       'Puebla de Zaragoza', 'Teziutlán', 'Veracruz', 'Minatitlán',\n",
       "       'Guadalajara', 'Puerto Vallarta', 'Huitzuco de los Figueroa',\n",
       "       'San Cristóbal de las Casas'], dtype=object)"
      ]
     },
     "execution_count": 61,
     "metadata": {},
     "output_type": "execute_result"
    }
   ],
   "source": [
    "df['Municipio_origen'].unique()"
   ]
  },
  {
   "cell_type": "code",
   "execution_count": 62,
   "id": "22ce9a66",
   "metadata": {},
   "outputs": [
    {
     "data": {
      "text/plain": [
       "array(['Panteón Civil de Dolores', 'Panteón Parque Memorial',\n",
       "       'Panteón Norte', 'Panteón Sahuaro', 'Panteón Yañez',\n",
       "       'Panteón Héroes Civiles de Guaymas', 'Panteón Municipal de Puebla',\n",
       "       'Panteon Municipal de Teziutlán',\n",
       "       'Panteón del Barrio de Chignaulingo',\n",
       "       'Panteón del Barrio de Fresnillo', 'Panteón Palo Verde',\n",
       "       'Panteón Municipal de Veracruz', 'Panteón Xalapeño',\n",
       "       'Panteón Municipal Hidalgo', 'Panteón Municipal Bosques de Xalapa',\n",
       "       'Panteón Mezquitán', 'Panteón Nuevo Guadalajara',\n",
       "       'Cementerio El Progreso', 'Panteón Municipal de Huitzuco',\n",
       "       'Panteón Municipal'], dtype=object)"
      ]
     },
     "execution_count": 62,
     "metadata": {},
     "output_type": "execute_result"
    }
   ],
   "source": [
    "df['Panteón_origen'].unique()"
   ]
  },
  {
   "cell_type": "code",
   "execution_count": 63,
   "id": "44bf9940",
   "metadata": {},
   "outputs": [
    {
     "data": {
      "text/plain": [
       "array(['Restos cremados', 'Cadáver', 'Feto', 'Miembros', 'Restos humanos',\n",
       "       'Restos óseos', 'Sin dato'], dtype=object)"
      ]
     },
     "execution_count": 63,
     "metadata": {},
     "output_type": "execute_result"
    }
   ],
   "source": [
    "df['Restos_tipo'].unique()"
   ]
  },
  {
   "cell_type": "code",
   "execution_count": 64,
   "id": "29752d6d",
   "metadata": {},
   "outputs": [
    {
     "data": {
      "text/plain": [
       "array([55. , 47. ,  0. , 31. , 18. , 39. , 35. , 74. , 26. , 83. , 89. ,\n",
       "       64. , 78. , 73. , 81. , 75. , 60. , 63. , 27. , 45. , 40. , 38. ,\n",
       "       25. , 90. , 42. , 77. , 70. , 32. , 76. , 84. , 87. , 66. , 68. ,\n",
       "       94. , 71. , 92. , 49. , 69. , 50. , 80. , 28. , 37. , 30. , 20. ,\n",
       "       15. , 34. , 65. , 86. , 67. , 58. , 52. , 85. , 46. , 22. , 54. ,\n",
       "       33. , 48. , 53. , 44. , 57. , 72. , 41. , 79. , 51. , 82. , 88. ,\n",
       "       36. , 96. , 62. , 91. , 24. , 29. , 13. ,  6. , 98. , 93. , 59. ,\n",
       "       19. , 61. , 97. , 95. , 17. , 16. , 23. , 21. , 56. , 11. ,  5. ,\n",
       "        1. , 43. ,  9. ,  3. , 12. ,  2. ,  4. ,  8. , 18.8, 14. ,  7. ,\n",
       "       10. ])"
      ]
     },
     "execution_count": 64,
     "metadata": {},
     "output_type": "execute_result"
    }
   ],
   "source": [
    "df['Edad'].unique()"
   ]
  },
  {
   "cell_type": "code",
   "execution_count": 65,
   "id": "c1dbd666",
   "metadata": {},
   "outputs": [
    {
     "data": {
      "text/plain": [
       "1039"
      ]
     },
     "execution_count": 65,
     "metadata": {},
     "output_type": "execute_result"
    }
   ],
   "source": [
    "len(df.loc[(df['Restos_tipo'] == 'Sin dato')])"
   ]
  },
  {
   "cell_type": "code",
   "execution_count": 66,
   "id": "cd835db0",
   "metadata": {},
   "outputs": [
    {
     "data": {
      "text/plain": [
       "4.943146676816214"
      ]
     },
     "execution_count": 66,
     "metadata": {},
     "output_type": "execute_result"
    }
   ],
   "source": [
    "(1039/len(df))*100"
   ]
  },
  {
   "cell_type": "code",
   "execution_count": 67,
   "id": "f1428b8a",
   "metadata": {},
   "outputs": [
    {
     "data": {
      "text/plain": [
       "21019"
      ]
     },
     "execution_count": 67,
     "metadata": {},
     "output_type": "execute_result"
    }
   ],
   "source": [
    "len(df)"
   ]
  },
  {
   "cell_type": "code",
   "execution_count": 68,
   "id": "c1760217",
   "metadata": {},
   "outputs": [],
   "source": [
    "df_no_missing = df.loc[(df['Restos_tipo'] != 'Sin dato')]"
   ]
  },
  {
   "cell_type": "code",
   "execution_count": 69,
   "id": "005b7dd4",
   "metadata": {},
   "outputs": [
    {
     "data": {
      "text/plain": [
       "19980"
      ]
     },
     "execution_count": 69,
     "metadata": {},
     "output_type": "execute_result"
    }
   ],
   "source": [
    "len(df_no_missing)"
   ]
  },
  {
   "cell_type": "code",
   "execution_count": 70,
   "id": "01e8dc3c",
   "metadata": {},
   "outputs": [
    {
     "data": {
      "text/plain": [
       "array(['Restos cremados', 'Cadáver', 'Feto', 'Miembros', 'Restos humanos',\n",
       "       'Restos óseos'], dtype=object)"
      ]
     },
     "execution_count": 70,
     "metadata": {},
     "output_type": "execute_result"
    }
   ],
   "source": [
    "df_no_missing['Restos_tipo'].unique()"
   ]
  },
  {
   "cell_type": "code",
   "execution_count": 71,
   "id": "9f50092d",
   "metadata": {},
   "outputs": [
    {
     "data": {
      "text/plain": [
       "Index(['ID', 'Estado_origen', 'Municipio_origen', 'Panteón_origen',\n",
       "       'Estatus_FC', 'Fecha_inhumación', 'Día_inhumación', 'Mes_inhumación',\n",
       "       'Año_inhumación', 'Fecha_defunción', 'Día_defunción', 'Mes_defunción',\n",
       "       'Año_defunción', 'Fecha_exhumación', 'Restos_tipo', 'Sexo', 'Edad',\n",
       "       'Conocido_Desconocido', 'Primer apellido', 'Segundo Apellido',\n",
       "       'Nombre(s)', 'Nombre completo', 'Institución_origen', 'Rdoc',\n",
       "       'Marca_temporal', 'Datos alternativos'],\n",
       "      dtype='object')"
      ]
     },
     "execution_count": 71,
     "metadata": {},
     "output_type": "execute_result"
    }
   ],
   "source": [
    "df_no_missing.columns"
   ]
  },
  {
   "cell_type": "code",
   "execution_count": 72,
   "id": "2e1bfb81",
   "metadata": {
    "scrolled": true
   },
   "outputs": [
    {
     "data": {
      "text/html": [
       "<div>\n",
       "<style scoped>\n",
       "    .dataframe tbody tr th:only-of-type {\n",
       "        vertical-align: middle;\n",
       "    }\n",
       "\n",
       "    .dataframe tbody tr th {\n",
       "        vertical-align: top;\n",
       "    }\n",
       "\n",
       "    .dataframe thead th {\n",
       "        text-align: right;\n",
       "    }\n",
       "</style>\n",
       "<table border=\"1\" class=\"dataframe\">\n",
       "  <thead>\n",
       "    <tr style=\"text-align: right;\">\n",
       "      <th></th>\n",
       "      <th>Municipio_origen</th>\n",
       "      <th>Panteón_origen</th>\n",
       "      <th>Restos_tipo</th>\n",
       "      <th>Edad</th>\n",
       "    </tr>\n",
       "  </thead>\n",
       "  <tbody>\n",
       "    <tr>\n",
       "      <th>0</th>\n",
       "      <td>Miguel Hidalgo</td>\n",
       "      <td>Panteón Civil de Dolores</td>\n",
       "      <td>Restos cremados</td>\n",
       "      <td>55.0</td>\n",
       "    </tr>\n",
       "    <tr>\n",
       "      <th>1</th>\n",
       "      <td>Miguel Hidalgo</td>\n",
       "      <td>Panteón Civil de Dolores</td>\n",
       "      <td>Cadáver</td>\n",
       "      <td>47.0</td>\n",
       "    </tr>\n",
       "    <tr>\n",
       "      <th>2</th>\n",
       "      <td>Miguel Hidalgo</td>\n",
       "      <td>Panteón Civil de Dolores</td>\n",
       "      <td>Cadáver</td>\n",
       "      <td>47.0</td>\n",
       "    </tr>\n",
       "    <tr>\n",
       "      <th>3</th>\n",
       "      <td>Miguel Hidalgo</td>\n",
       "      <td>Panteón Civil de Dolores</td>\n",
       "      <td>Cadáver</td>\n",
       "      <td>47.0</td>\n",
       "    </tr>\n",
       "    <tr>\n",
       "      <th>4</th>\n",
       "      <td>Miguel Hidalgo</td>\n",
       "      <td>Panteón Civil de Dolores</td>\n",
       "      <td>Cadáver</td>\n",
       "      <td>47.0</td>\n",
       "    </tr>\n",
       "  </tbody>\n",
       "</table>\n",
       "</div>"
      ],
      "text/plain": [
       "  Municipio_origen            Panteón_origen      Restos_tipo  Edad\n",
       "0   Miguel Hidalgo  Panteón Civil de Dolores  Restos cremados  55.0\n",
       "1   Miguel Hidalgo  Panteón Civil de Dolores          Cadáver  47.0\n",
       "2   Miguel Hidalgo  Panteón Civil de Dolores          Cadáver  47.0\n",
       "3   Miguel Hidalgo  Panteón Civil de Dolores          Cadáver  47.0\n",
       "4   Miguel Hidalgo  Panteón Civil de Dolores          Cadáver  47.0"
      ]
     },
     "execution_count": 72,
     "metadata": {},
     "output_type": "execute_result"
    }
   ],
   "source": [
    "X = df_no_missing.iloc[:,[2,3,14,16]]\n",
    "X.head()"
   ]
  },
  {
   "cell_type": "code",
   "execution_count": 73,
   "id": "2256aa25",
   "metadata": {},
   "outputs": [
    {
     "data": {
      "text/plain": [
       "array(['Miguel Hidalgo', 'Xalapa', 'Hermosillo', 'Heroica Guaymas',\n",
       "       'Puebla de Zaragoza', 'Teziutlán', 'Veracruz', 'Minatitlán',\n",
       "       'Guadalajara', 'Puerto Vallarta', 'San Cristóbal de las Casas'],\n",
       "      dtype=object)"
      ]
     },
     "execution_count": 73,
     "metadata": {},
     "output_type": "execute_result"
    }
   ],
   "source": [
    "X['Municipio_origen'].unique()"
   ]
  },
  {
   "cell_type": "code",
   "execution_count": 74,
   "id": "6ef489c7",
   "metadata": {},
   "outputs": [
    {
     "data": {
      "text/plain": [
       "array(['Panteón Civil de Dolores', 'Panteón Parque Memorial',\n",
       "       'Panteón Norte', 'Panteón Sahuaro',\n",
       "       'Panteón Héroes Civiles de Guaymas', 'Panteón Municipal de Puebla',\n",
       "       'Panteon Municipal de Teziutlán', 'Panteón Palo Verde',\n",
       "       'Panteón Municipal de Veracruz', 'Panteón Xalapeño',\n",
       "       'Panteón Municipal Hidalgo', 'Panteón Municipal Bosques de Xalapa',\n",
       "       'Panteón Mezquitán', 'Panteón Nuevo Guadalajara',\n",
       "       'Cementerio El Progreso', 'Panteón Municipal'], dtype=object)"
      ]
     },
     "execution_count": 74,
     "metadata": {},
     "output_type": "execute_result"
    }
   ],
   "source": [
    "X['Panteón_origen'].unique()"
   ]
  },
  {
   "cell_type": "code",
   "execution_count": 75,
   "id": "942bb7a8",
   "metadata": {},
   "outputs": [
    {
     "data": {
      "text/plain": [
       "array(['Restos cremados', 'Cadáver', 'Feto', 'Miembros', 'Restos humanos',\n",
       "       'Restos óseos'], dtype=object)"
      ]
     },
     "execution_count": 75,
     "metadata": {},
     "output_type": "execute_result"
    }
   ],
   "source": [
    "X['Restos_tipo'].unique()"
   ]
  },
  {
   "cell_type": "code",
   "execution_count": 76,
   "id": "d3cc2e12",
   "metadata": {},
   "outputs": [
    {
     "data": {
      "text/plain": [
       "array([55. , 47. ,  0. , 31. , 18. , 39. , 35. , 74. , 26. , 83. , 89. ,\n",
       "       64. , 78. , 73. , 81. , 75. , 60. , 63. , 27. , 45. , 40. , 38. ,\n",
       "       25. , 90. , 42. , 77. , 70. , 32. , 76. , 84. , 87. , 66. , 68. ,\n",
       "       94. , 71. , 92. , 49. , 69. , 50. , 80. , 28. , 37. , 30. , 20. ,\n",
       "       15. , 34. , 65. , 86. , 67. , 58. , 52. , 85. , 46. , 22. , 54. ,\n",
       "       33. , 48. , 53. , 44. , 57. , 72. , 41. , 79. , 51. , 82. , 88. ,\n",
       "       36. , 96. , 62. , 91. , 24. , 29. , 13. ,  6. , 98. , 93. , 59. ,\n",
       "       19. , 61. , 97. , 95. , 17. , 16. , 23. , 21. , 56. , 11. ,  5. ,\n",
       "        1. , 43. ,  9. ,  3. , 12. ,  2. ,  4. ,  8. , 18.8, 14. ,  7. ,\n",
       "       10. ])"
      ]
     },
     "execution_count": 76,
     "metadata": {},
     "output_type": "execute_result"
    }
   ],
   "source": [
    "X['Edad'].unique()"
   ]
  },
  {
   "cell_type": "code",
   "execution_count": 77,
   "id": "14cfa969",
   "metadata": {},
   "outputs": [
    {
     "data": {
      "text/plain": [
       "0    Desconocido\n",
       "1    Desconocido\n",
       "2       Conocido\n",
       "3    Desconocido\n",
       "4    Desconocido\n",
       "Name: Conocido_Desconocido, dtype: object"
      ]
     },
     "execution_count": 77,
     "metadata": {},
     "output_type": "execute_result"
    }
   ],
   "source": [
    "y = df_no_missing['Conocido_Desconocido'].copy()\n",
    "y.head()"
   ]
  },
  {
   "cell_type": "markdown",
   "id": "1d429ea6",
   "metadata": {},
   "source": [
    "# One hot encoding"
   ]
  },
  {
   "cell_type": "code",
   "execution_count": 78,
   "id": "f297b1b7",
   "metadata": {},
   "outputs": [
    {
     "data": {
      "text/plain": [
       "Municipio_origen     object\n",
       "Panteón_origen       object\n",
       "Restos_tipo          object\n",
       "Edad                float64\n",
       "dtype: object"
      ]
     },
     "execution_count": 78,
     "metadata": {},
     "output_type": "execute_result"
    }
   ],
   "source": [
    "X.dtypes"
   ]
  },
  {
   "cell_type": "code",
   "execution_count": 79,
   "id": "5a182d0c",
   "metadata": {},
   "outputs": [
    {
     "data": {
      "text/html": [
       "<div>\n",
       "<style scoped>\n",
       "    .dataframe tbody tr th:only-of-type {\n",
       "        vertical-align: middle;\n",
       "    }\n",
       "\n",
       "    .dataframe tbody tr th {\n",
       "        vertical-align: top;\n",
       "    }\n",
       "\n",
       "    .dataframe thead th {\n",
       "        text-align: right;\n",
       "    }\n",
       "</style>\n",
       "<table border=\"1\" class=\"dataframe\">\n",
       "  <thead>\n",
       "    <tr style=\"text-align: right;\">\n",
       "      <th></th>\n",
       "      <th>Edad</th>\n",
       "      <th>Municipio_origen_Guadalajara</th>\n",
       "      <th>Municipio_origen_Hermosillo</th>\n",
       "      <th>Municipio_origen_Heroica Guaymas</th>\n",
       "      <th>Municipio_origen_Miguel Hidalgo</th>\n",
       "      <th>Municipio_origen_Minatitlán</th>\n",
       "      <th>Municipio_origen_Puebla de Zaragoza</th>\n",
       "      <th>Municipio_origen_Puerto Vallarta</th>\n",
       "      <th>Municipio_origen_San Cristóbal de las Casas</th>\n",
       "      <th>Municipio_origen_Teziutlán</th>\n",
       "      <th>...</th>\n",
       "      <th>Panteón_origen_Panteón Palo Verde</th>\n",
       "      <th>Panteón_origen_Panteón Parque Memorial</th>\n",
       "      <th>Panteón_origen_Panteón Sahuaro</th>\n",
       "      <th>Panteón_origen_Panteón Xalapeño</th>\n",
       "      <th>Restos_tipo_Cadáver</th>\n",
       "      <th>Restos_tipo_Feto</th>\n",
       "      <th>Restos_tipo_Miembros</th>\n",
       "      <th>Restos_tipo_Restos cremados</th>\n",
       "      <th>Restos_tipo_Restos humanos</th>\n",
       "      <th>Restos_tipo_Restos óseos</th>\n",
       "    </tr>\n",
       "  </thead>\n",
       "  <tbody>\n",
       "    <tr>\n",
       "      <th>0</th>\n",
       "      <td>55.0</td>\n",
       "      <td>0</td>\n",
       "      <td>0</td>\n",
       "      <td>0</td>\n",
       "      <td>1</td>\n",
       "      <td>0</td>\n",
       "      <td>0</td>\n",
       "      <td>0</td>\n",
       "      <td>0</td>\n",
       "      <td>0</td>\n",
       "      <td>...</td>\n",
       "      <td>0</td>\n",
       "      <td>0</td>\n",
       "      <td>0</td>\n",
       "      <td>0</td>\n",
       "      <td>0</td>\n",
       "      <td>0</td>\n",
       "      <td>0</td>\n",
       "      <td>1</td>\n",
       "      <td>0</td>\n",
       "      <td>0</td>\n",
       "    </tr>\n",
       "    <tr>\n",
       "      <th>1</th>\n",
       "      <td>47.0</td>\n",
       "      <td>0</td>\n",
       "      <td>0</td>\n",
       "      <td>0</td>\n",
       "      <td>1</td>\n",
       "      <td>0</td>\n",
       "      <td>0</td>\n",
       "      <td>0</td>\n",
       "      <td>0</td>\n",
       "      <td>0</td>\n",
       "      <td>...</td>\n",
       "      <td>0</td>\n",
       "      <td>0</td>\n",
       "      <td>0</td>\n",
       "      <td>0</td>\n",
       "      <td>1</td>\n",
       "      <td>0</td>\n",
       "      <td>0</td>\n",
       "      <td>0</td>\n",
       "      <td>0</td>\n",
       "      <td>0</td>\n",
       "    </tr>\n",
       "    <tr>\n",
       "      <th>2</th>\n",
       "      <td>47.0</td>\n",
       "      <td>0</td>\n",
       "      <td>0</td>\n",
       "      <td>0</td>\n",
       "      <td>1</td>\n",
       "      <td>0</td>\n",
       "      <td>0</td>\n",
       "      <td>0</td>\n",
       "      <td>0</td>\n",
       "      <td>0</td>\n",
       "      <td>...</td>\n",
       "      <td>0</td>\n",
       "      <td>0</td>\n",
       "      <td>0</td>\n",
       "      <td>0</td>\n",
       "      <td>1</td>\n",
       "      <td>0</td>\n",
       "      <td>0</td>\n",
       "      <td>0</td>\n",
       "      <td>0</td>\n",
       "      <td>0</td>\n",
       "    </tr>\n",
       "    <tr>\n",
       "      <th>3</th>\n",
       "      <td>47.0</td>\n",
       "      <td>0</td>\n",
       "      <td>0</td>\n",
       "      <td>0</td>\n",
       "      <td>1</td>\n",
       "      <td>0</td>\n",
       "      <td>0</td>\n",
       "      <td>0</td>\n",
       "      <td>0</td>\n",
       "      <td>0</td>\n",
       "      <td>...</td>\n",
       "      <td>0</td>\n",
       "      <td>0</td>\n",
       "      <td>0</td>\n",
       "      <td>0</td>\n",
       "      <td>1</td>\n",
       "      <td>0</td>\n",
       "      <td>0</td>\n",
       "      <td>0</td>\n",
       "      <td>0</td>\n",
       "      <td>0</td>\n",
       "    </tr>\n",
       "    <tr>\n",
       "      <th>4</th>\n",
       "      <td>47.0</td>\n",
       "      <td>0</td>\n",
       "      <td>0</td>\n",
       "      <td>0</td>\n",
       "      <td>1</td>\n",
       "      <td>0</td>\n",
       "      <td>0</td>\n",
       "      <td>0</td>\n",
       "      <td>0</td>\n",
       "      <td>0</td>\n",
       "      <td>...</td>\n",
       "      <td>0</td>\n",
       "      <td>0</td>\n",
       "      <td>0</td>\n",
       "      <td>0</td>\n",
       "      <td>1</td>\n",
       "      <td>0</td>\n",
       "      <td>0</td>\n",
       "      <td>0</td>\n",
       "      <td>0</td>\n",
       "      <td>0</td>\n",
       "    </tr>\n",
       "  </tbody>\n",
       "</table>\n",
       "<p>5 rows × 34 columns</p>\n",
       "</div>"
      ],
      "text/plain": [
       "   Edad  Municipio_origen_Guadalajara  Municipio_origen_Hermosillo  \\\n",
       "0  55.0                             0                            0   \n",
       "1  47.0                             0                            0   \n",
       "2  47.0                             0                            0   \n",
       "3  47.0                             0                            0   \n",
       "4  47.0                             0                            0   \n",
       "\n",
       "   Municipio_origen_Heroica Guaymas  Municipio_origen_Miguel Hidalgo  \\\n",
       "0                                 0                                1   \n",
       "1                                 0                                1   \n",
       "2                                 0                                1   \n",
       "3                                 0                                1   \n",
       "4                                 0                                1   \n",
       "\n",
       "   Municipio_origen_Minatitlán  Municipio_origen_Puebla de Zaragoza  \\\n",
       "0                            0                                    0   \n",
       "1                            0                                    0   \n",
       "2                            0                                    0   \n",
       "3                            0                                    0   \n",
       "4                            0                                    0   \n",
       "\n",
       "   Municipio_origen_Puerto Vallarta  \\\n",
       "0                                 0   \n",
       "1                                 0   \n",
       "2                                 0   \n",
       "3                                 0   \n",
       "4                                 0   \n",
       "\n",
       "   Municipio_origen_San Cristóbal de las Casas  Municipio_origen_Teziutlán  \\\n",
       "0                                            0                           0   \n",
       "1                                            0                           0   \n",
       "2                                            0                           0   \n",
       "3                                            0                           0   \n",
       "4                                            0                           0   \n",
       "\n",
       "   ...  Panteón_origen_Panteón Palo Verde  \\\n",
       "0  ...                                  0   \n",
       "1  ...                                  0   \n",
       "2  ...                                  0   \n",
       "3  ...                                  0   \n",
       "4  ...                                  0   \n",
       "\n",
       "   Panteón_origen_Panteón Parque Memorial  Panteón_origen_Panteón Sahuaro  \\\n",
       "0                                       0                               0   \n",
       "1                                       0                               0   \n",
       "2                                       0                               0   \n",
       "3                                       0                               0   \n",
       "4                                       0                               0   \n",
       "\n",
       "   Panteón_origen_Panteón Xalapeño  Restos_tipo_Cadáver  Restos_tipo_Feto  \\\n",
       "0                                0                    0                 0   \n",
       "1                                0                    1                 0   \n",
       "2                                0                    1                 0   \n",
       "3                                0                    1                 0   \n",
       "4                                0                    1                 0   \n",
       "\n",
       "   Restos_tipo_Miembros  Restos_tipo_Restos cremados  \\\n",
       "0                     0                            1   \n",
       "1                     0                            0   \n",
       "2                     0                            0   \n",
       "3                     0                            0   \n",
       "4                     0                            0   \n",
       "\n",
       "   Restos_tipo_Restos humanos  Restos_tipo_Restos óseos  \n",
       "0                           0                         0  \n",
       "1                           0                         0  \n",
       "2                           0                         0  \n",
       "3                           0                         0  \n",
       "4                           0                         0  \n",
       "\n",
       "[5 rows x 34 columns]"
      ]
     },
     "execution_count": 79,
     "metadata": {},
     "output_type": "execute_result"
    }
   ],
   "source": [
    "X_encoded = pd.get_dummies(X, columns=['Municipio_origen','Panteón_origen','Restos_tipo'])\n",
    "X_encoded.head()"
   ]
  },
  {
   "cell_type": "code",
   "execution_count": 80,
   "id": "9cecd7ff",
   "metadata": {},
   "outputs": [
    {
     "data": {
      "text/plain": [
       "Index(['Edad', 'Municipio_origen_Guadalajara', 'Municipio_origen_Hermosillo',\n",
       "       'Municipio_origen_Heroica Guaymas', 'Municipio_origen_Miguel Hidalgo',\n",
       "       'Municipio_origen_Minatitlán', 'Municipio_origen_Puebla de Zaragoza',\n",
       "       'Municipio_origen_Puerto Vallarta',\n",
       "       'Municipio_origen_San Cristóbal de las Casas',\n",
       "       'Municipio_origen_Teziutlán', 'Municipio_origen_Veracruz',\n",
       "       'Municipio_origen_Xalapa', 'Panteón_origen_Cementerio El Progreso',\n",
       "       'Panteón_origen_Panteon Municipal de Teziutlán',\n",
       "       'Panteón_origen_Panteón Civil de Dolores',\n",
       "       'Panteón_origen_Panteón Héroes Civiles de Guaymas',\n",
       "       'Panteón_origen_Panteón Mezquitán', 'Panteón_origen_Panteón Municipal',\n",
       "       'Panteón_origen_Panteón Municipal Bosques de Xalapa',\n",
       "       'Panteón_origen_Panteón Municipal Hidalgo',\n",
       "       'Panteón_origen_Panteón Municipal de Puebla',\n",
       "       'Panteón_origen_Panteón Municipal de Veracruz',\n",
       "       'Panteón_origen_Panteón Norte',\n",
       "       'Panteón_origen_Panteón Nuevo Guadalajara',\n",
       "       'Panteón_origen_Panteón Palo Verde',\n",
       "       'Panteón_origen_Panteón Parque Memorial',\n",
       "       'Panteón_origen_Panteón Sahuaro', 'Panteón_origen_Panteón Xalapeño',\n",
       "       'Restos_tipo_Cadáver', 'Restos_tipo_Feto', 'Restos_tipo_Miembros',\n",
       "       'Restos_tipo_Restos cremados', 'Restos_tipo_Restos humanos',\n",
       "       'Restos_tipo_Restos óseos'],\n",
       "      dtype='object')"
      ]
     },
     "execution_count": 80,
     "metadata": {},
     "output_type": "execute_result"
    }
   ],
   "source": [
    "X_encoded.columns"
   ]
  },
  {
   "cell_type": "code",
   "execution_count": 81,
   "id": "383159bf",
   "metadata": {},
   "outputs": [
    {
     "data": {
      "text/plain": [
       "0"
      ]
     },
     "execution_count": 81,
     "metadata": {},
     "output_type": "execute_result"
    }
   ],
   "source": [
    "len(X_encoded.loc[(X_encoded['Municipio_origen_Guadalajara'] == 'nan')])\n",
    "#len(df.loc[(df['Restos_tipo'] == 'Sin dato')])"
   ]
  },
  {
   "cell_type": "code",
   "execution_count": 82,
   "id": "811492bc",
   "metadata": {},
   "outputs": [
    {
     "data": {
      "text/plain": [
       "array(['Desconocido', 'Conocido'], dtype=object)"
      ]
     },
     "execution_count": 82,
     "metadata": {},
     "output_type": "execute_result"
    }
   ],
   "source": [
    "y.unique()"
   ]
  },
  {
   "cell_type": "code",
   "execution_count": 83,
   "id": "108b732e",
   "metadata": {},
   "outputs": [],
   "source": [
    "from sklearn import preprocessing\n",
    "le = preprocessing.LabelEncoder()"
   ]
  },
  {
   "cell_type": "code",
   "execution_count": 84,
   "id": "c65e3efb",
   "metadata": {},
   "outputs": [
    {
     "name": "stderr",
     "output_type": "stream",
     "text": [
      "C:\\Users\\Lesli\\AppData\\Local\\Temp\\ipykernel_9068\\3126090605.py:3: SettingWithCopyWarning: \n",
      "A value is trying to be set on a copy of a slice from a DataFrame.\n",
      "Try using .loc[row_indexer,col_indexer] = value instead\n",
      "\n",
      "See the caveats in the documentation: https://pandas.pydata.org/pandas-docs/stable/user_guide/indexing.html#returning-a-view-versus-a-copy\n",
      "  df_no_missing['Conocido_Desconocido'] = column_Conocido_Desconocido\n"
     ]
    }
   ],
   "source": [
    "le.fit(df_no_missing['Conocido_Desconocido'])\n",
    "column_Conocido_Desconocido = le.transform(df_no_missing['Conocido_Desconocido'])\n",
    "df_no_missing['Conocido_Desconocido'] = column_Conocido_Desconocido"
   ]
  },
  {
   "cell_type": "code",
   "execution_count": 85,
   "id": "015b9758",
   "metadata": {},
   "outputs": [],
   "source": [
    "#pd.get_dummies(y, columns=['Conocido_Desconocido']).head()"
   ]
  },
  {
   "cell_type": "code",
   "execution_count": 86,
   "id": "6675b42d",
   "metadata": {},
   "outputs": [
    {
     "data": {
      "text/plain": [
       "0        Desconocido\n",
       "1        Desconocido\n",
       "2           Conocido\n",
       "3        Desconocido\n",
       "4        Desconocido\n",
       "            ...     \n",
       "21014    Desconocido\n",
       "21015    Desconocido\n",
       "21016    Desconocido\n",
       "21017    Desconocido\n",
       "21018       Conocido\n",
       "Name: Conocido_Desconocido, Length: 19980, dtype: object"
      ]
     },
     "execution_count": 86,
     "metadata": {},
     "output_type": "execute_result"
    }
   ],
   "source": [
    "y"
   ]
  },
  {
   "cell_type": "code",
   "execution_count": 87,
   "id": "5e97d253",
   "metadata": {},
   "outputs": [
    {
     "data": {
      "text/plain": [
       "0    1\n",
       "1    1\n",
       "2    0\n",
       "3    1\n",
       "4    1\n",
       "Name: Conocido_Desconocido, dtype: int32"
      ]
     },
     "execution_count": 87,
     "metadata": {},
     "output_type": "execute_result"
    }
   ],
   "source": [
    "y = df_no_missing['Conocido_Desconocido'].copy()\n",
    "y.head()"
   ]
  },
  {
   "cell_type": "code",
   "execution_count": 88,
   "id": "80120165",
   "metadata": {},
   "outputs": [
    {
     "data": {
      "text/html": [
       "<div>\n",
       "<style scoped>\n",
       "    .dataframe tbody tr th:only-of-type {\n",
       "        vertical-align: middle;\n",
       "    }\n",
       "\n",
       "    .dataframe tbody tr th {\n",
       "        vertical-align: top;\n",
       "    }\n",
       "\n",
       "    .dataframe thead th {\n",
       "        text-align: right;\n",
       "    }\n",
       "</style>\n",
       "<table border=\"1\" class=\"dataframe\">\n",
       "  <thead>\n",
       "    <tr style=\"text-align: right;\">\n",
       "      <th></th>\n",
       "      <th>Edad</th>\n",
       "      <th>Municipio_origen_Guadalajara</th>\n",
       "      <th>Municipio_origen_Hermosillo</th>\n",
       "      <th>Municipio_origen_Heroica Guaymas</th>\n",
       "      <th>Municipio_origen_Miguel Hidalgo</th>\n",
       "      <th>Municipio_origen_Minatitlán</th>\n",
       "      <th>Municipio_origen_Puebla de Zaragoza</th>\n",
       "      <th>Municipio_origen_Puerto Vallarta</th>\n",
       "      <th>Municipio_origen_San Cristóbal de las Casas</th>\n",
       "      <th>Municipio_origen_Teziutlán</th>\n",
       "      <th>...</th>\n",
       "      <th>Panteón_origen_Panteón Parque Memorial</th>\n",
       "      <th>Panteón_origen_Panteón Sahuaro</th>\n",
       "      <th>Panteón_origen_Panteón Xalapeño</th>\n",
       "      <th>Restos_tipo_Cadáver</th>\n",
       "      <th>Restos_tipo_Feto</th>\n",
       "      <th>Restos_tipo_Miembros</th>\n",
       "      <th>Restos_tipo_Restos cremados</th>\n",
       "      <th>Restos_tipo_Restos humanos</th>\n",
       "      <th>Restos_tipo_Restos óseos</th>\n",
       "      <th>Conocido_Desconocido</th>\n",
       "    </tr>\n",
       "  </thead>\n",
       "  <tbody>\n",
       "    <tr>\n",
       "      <th>0</th>\n",
       "      <td>55.0</td>\n",
       "      <td>0</td>\n",
       "      <td>0</td>\n",
       "      <td>0</td>\n",
       "      <td>1</td>\n",
       "      <td>0</td>\n",
       "      <td>0</td>\n",
       "      <td>0</td>\n",
       "      <td>0</td>\n",
       "      <td>0</td>\n",
       "      <td>...</td>\n",
       "      <td>0</td>\n",
       "      <td>0</td>\n",
       "      <td>0</td>\n",
       "      <td>0</td>\n",
       "      <td>0</td>\n",
       "      <td>0</td>\n",
       "      <td>1</td>\n",
       "      <td>0</td>\n",
       "      <td>0</td>\n",
       "      <td>1</td>\n",
       "    </tr>\n",
       "    <tr>\n",
       "      <th>1</th>\n",
       "      <td>47.0</td>\n",
       "      <td>0</td>\n",
       "      <td>0</td>\n",
       "      <td>0</td>\n",
       "      <td>1</td>\n",
       "      <td>0</td>\n",
       "      <td>0</td>\n",
       "      <td>0</td>\n",
       "      <td>0</td>\n",
       "      <td>0</td>\n",
       "      <td>...</td>\n",
       "      <td>0</td>\n",
       "      <td>0</td>\n",
       "      <td>0</td>\n",
       "      <td>1</td>\n",
       "      <td>0</td>\n",
       "      <td>0</td>\n",
       "      <td>0</td>\n",
       "      <td>0</td>\n",
       "      <td>0</td>\n",
       "      <td>1</td>\n",
       "    </tr>\n",
       "    <tr>\n",
       "      <th>2</th>\n",
       "      <td>47.0</td>\n",
       "      <td>0</td>\n",
       "      <td>0</td>\n",
       "      <td>0</td>\n",
       "      <td>1</td>\n",
       "      <td>0</td>\n",
       "      <td>0</td>\n",
       "      <td>0</td>\n",
       "      <td>0</td>\n",
       "      <td>0</td>\n",
       "      <td>...</td>\n",
       "      <td>0</td>\n",
       "      <td>0</td>\n",
       "      <td>0</td>\n",
       "      <td>1</td>\n",
       "      <td>0</td>\n",
       "      <td>0</td>\n",
       "      <td>0</td>\n",
       "      <td>0</td>\n",
       "      <td>0</td>\n",
       "      <td>0</td>\n",
       "    </tr>\n",
       "    <tr>\n",
       "      <th>3</th>\n",
       "      <td>47.0</td>\n",
       "      <td>0</td>\n",
       "      <td>0</td>\n",
       "      <td>0</td>\n",
       "      <td>1</td>\n",
       "      <td>0</td>\n",
       "      <td>0</td>\n",
       "      <td>0</td>\n",
       "      <td>0</td>\n",
       "      <td>0</td>\n",
       "      <td>...</td>\n",
       "      <td>0</td>\n",
       "      <td>0</td>\n",
       "      <td>0</td>\n",
       "      <td>1</td>\n",
       "      <td>0</td>\n",
       "      <td>0</td>\n",
       "      <td>0</td>\n",
       "      <td>0</td>\n",
       "      <td>0</td>\n",
       "      <td>1</td>\n",
       "    </tr>\n",
       "    <tr>\n",
       "      <th>4</th>\n",
       "      <td>47.0</td>\n",
       "      <td>0</td>\n",
       "      <td>0</td>\n",
       "      <td>0</td>\n",
       "      <td>1</td>\n",
       "      <td>0</td>\n",
       "      <td>0</td>\n",
       "      <td>0</td>\n",
       "      <td>0</td>\n",
       "      <td>0</td>\n",
       "      <td>...</td>\n",
       "      <td>0</td>\n",
       "      <td>0</td>\n",
       "      <td>0</td>\n",
       "      <td>1</td>\n",
       "      <td>0</td>\n",
       "      <td>0</td>\n",
       "      <td>0</td>\n",
       "      <td>0</td>\n",
       "      <td>0</td>\n",
       "      <td>1</td>\n",
       "    </tr>\n",
       "    <tr>\n",
       "      <th>...</th>\n",
       "      <td>...</td>\n",
       "      <td>...</td>\n",
       "      <td>...</td>\n",
       "      <td>...</td>\n",
       "      <td>...</td>\n",
       "      <td>...</td>\n",
       "      <td>...</td>\n",
       "      <td>...</td>\n",
       "      <td>...</td>\n",
       "      <td>...</td>\n",
       "      <td>...</td>\n",
       "      <td>...</td>\n",
       "      <td>...</td>\n",
       "      <td>...</td>\n",
       "      <td>...</td>\n",
       "      <td>...</td>\n",
       "      <td>...</td>\n",
       "      <td>...</td>\n",
       "      <td>...</td>\n",
       "      <td>...</td>\n",
       "      <td>...</td>\n",
       "    </tr>\n",
       "    <tr>\n",
       "      <th>21014</th>\n",
       "      <td>47.0</td>\n",
       "      <td>0</td>\n",
       "      <td>0</td>\n",
       "      <td>0</td>\n",
       "      <td>0</td>\n",
       "      <td>0</td>\n",
       "      <td>0</td>\n",
       "      <td>0</td>\n",
       "      <td>1</td>\n",
       "      <td>0</td>\n",
       "      <td>...</td>\n",
       "      <td>0</td>\n",
       "      <td>0</td>\n",
       "      <td>0</td>\n",
       "      <td>1</td>\n",
       "      <td>0</td>\n",
       "      <td>0</td>\n",
       "      <td>0</td>\n",
       "      <td>0</td>\n",
       "      <td>0</td>\n",
       "      <td>1</td>\n",
       "    </tr>\n",
       "    <tr>\n",
       "      <th>21015</th>\n",
       "      <td>47.0</td>\n",
       "      <td>0</td>\n",
       "      <td>0</td>\n",
       "      <td>0</td>\n",
       "      <td>0</td>\n",
       "      <td>0</td>\n",
       "      <td>0</td>\n",
       "      <td>0</td>\n",
       "      <td>1</td>\n",
       "      <td>0</td>\n",
       "      <td>...</td>\n",
       "      <td>0</td>\n",
       "      <td>0</td>\n",
       "      <td>0</td>\n",
       "      <td>1</td>\n",
       "      <td>0</td>\n",
       "      <td>0</td>\n",
       "      <td>0</td>\n",
       "      <td>0</td>\n",
       "      <td>0</td>\n",
       "      <td>1</td>\n",
       "    </tr>\n",
       "    <tr>\n",
       "      <th>21016</th>\n",
       "      <td>53.0</td>\n",
       "      <td>0</td>\n",
       "      <td>0</td>\n",
       "      <td>0</td>\n",
       "      <td>0</td>\n",
       "      <td>0</td>\n",
       "      <td>0</td>\n",
       "      <td>0</td>\n",
       "      <td>1</td>\n",
       "      <td>0</td>\n",
       "      <td>...</td>\n",
       "      <td>0</td>\n",
       "      <td>0</td>\n",
       "      <td>0</td>\n",
       "      <td>1</td>\n",
       "      <td>0</td>\n",
       "      <td>0</td>\n",
       "      <td>0</td>\n",
       "      <td>0</td>\n",
       "      <td>0</td>\n",
       "      <td>1</td>\n",
       "    </tr>\n",
       "    <tr>\n",
       "      <th>21017</th>\n",
       "      <td>45.0</td>\n",
       "      <td>0</td>\n",
       "      <td>0</td>\n",
       "      <td>0</td>\n",
       "      <td>0</td>\n",
       "      <td>0</td>\n",
       "      <td>0</td>\n",
       "      <td>0</td>\n",
       "      <td>1</td>\n",
       "      <td>0</td>\n",
       "      <td>...</td>\n",
       "      <td>0</td>\n",
       "      <td>0</td>\n",
       "      <td>0</td>\n",
       "      <td>1</td>\n",
       "      <td>0</td>\n",
       "      <td>0</td>\n",
       "      <td>0</td>\n",
       "      <td>0</td>\n",
       "      <td>0</td>\n",
       "      <td>1</td>\n",
       "    </tr>\n",
       "    <tr>\n",
       "      <th>21018</th>\n",
       "      <td>42.0</td>\n",
       "      <td>0</td>\n",
       "      <td>0</td>\n",
       "      <td>0</td>\n",
       "      <td>0</td>\n",
       "      <td>0</td>\n",
       "      <td>0</td>\n",
       "      <td>0</td>\n",
       "      <td>1</td>\n",
       "      <td>0</td>\n",
       "      <td>...</td>\n",
       "      <td>0</td>\n",
       "      <td>0</td>\n",
       "      <td>0</td>\n",
       "      <td>1</td>\n",
       "      <td>0</td>\n",
       "      <td>0</td>\n",
       "      <td>0</td>\n",
       "      <td>0</td>\n",
       "      <td>0</td>\n",
       "      <td>0</td>\n",
       "    </tr>\n",
       "  </tbody>\n",
       "</table>\n",
       "<p>19980 rows × 35 columns</p>\n",
       "</div>"
      ],
      "text/plain": [
       "       Edad  Municipio_origen_Guadalajara  Municipio_origen_Hermosillo  \\\n",
       "0      55.0                             0                            0   \n",
       "1      47.0                             0                            0   \n",
       "2      47.0                             0                            0   \n",
       "3      47.0                             0                            0   \n",
       "4      47.0                             0                            0   \n",
       "...     ...                           ...                          ...   \n",
       "21014  47.0                             0                            0   \n",
       "21015  47.0                             0                            0   \n",
       "21016  53.0                             0                            0   \n",
       "21017  45.0                             0                            0   \n",
       "21018  42.0                             0                            0   \n",
       "\n",
       "       Municipio_origen_Heroica Guaymas  Municipio_origen_Miguel Hidalgo  \\\n",
       "0                                     0                                1   \n",
       "1                                     0                                1   \n",
       "2                                     0                                1   \n",
       "3                                     0                                1   \n",
       "4                                     0                                1   \n",
       "...                                 ...                              ...   \n",
       "21014                                 0                                0   \n",
       "21015                                 0                                0   \n",
       "21016                                 0                                0   \n",
       "21017                                 0                                0   \n",
       "21018                                 0                                0   \n",
       "\n",
       "       Municipio_origen_Minatitlán  Municipio_origen_Puebla de Zaragoza  \\\n",
       "0                                0                                    0   \n",
       "1                                0                                    0   \n",
       "2                                0                                    0   \n",
       "3                                0                                    0   \n",
       "4                                0                                    0   \n",
       "...                            ...                                  ...   \n",
       "21014                            0                                    0   \n",
       "21015                            0                                    0   \n",
       "21016                            0                                    0   \n",
       "21017                            0                                    0   \n",
       "21018                            0                                    0   \n",
       "\n",
       "       Municipio_origen_Puerto Vallarta  \\\n",
       "0                                     0   \n",
       "1                                     0   \n",
       "2                                     0   \n",
       "3                                     0   \n",
       "4                                     0   \n",
       "...                                 ...   \n",
       "21014                                 0   \n",
       "21015                                 0   \n",
       "21016                                 0   \n",
       "21017                                 0   \n",
       "21018                                 0   \n",
       "\n",
       "       Municipio_origen_San Cristóbal de las Casas  \\\n",
       "0                                                0   \n",
       "1                                                0   \n",
       "2                                                0   \n",
       "3                                                0   \n",
       "4                                                0   \n",
       "...                                            ...   \n",
       "21014                                            1   \n",
       "21015                                            1   \n",
       "21016                                            1   \n",
       "21017                                            1   \n",
       "21018                                            1   \n",
       "\n",
       "       Municipio_origen_Teziutlán  ...  \\\n",
       "0                               0  ...   \n",
       "1                               0  ...   \n",
       "2                               0  ...   \n",
       "3                               0  ...   \n",
       "4                               0  ...   \n",
       "...                           ...  ...   \n",
       "21014                           0  ...   \n",
       "21015                           0  ...   \n",
       "21016                           0  ...   \n",
       "21017                           0  ...   \n",
       "21018                           0  ...   \n",
       "\n",
       "       Panteón_origen_Panteón Parque Memorial  Panteón_origen_Panteón Sahuaro  \\\n",
       "0                                           0                               0   \n",
       "1                                           0                               0   \n",
       "2                                           0                               0   \n",
       "3                                           0                               0   \n",
       "4                                           0                               0   \n",
       "...                                       ...                             ...   \n",
       "21014                                       0                               0   \n",
       "21015                                       0                               0   \n",
       "21016                                       0                               0   \n",
       "21017                                       0                               0   \n",
       "21018                                       0                               0   \n",
       "\n",
       "       Panteón_origen_Panteón Xalapeño  Restos_tipo_Cadáver  Restos_tipo_Feto  \\\n",
       "0                                    0                    0                 0   \n",
       "1                                    0                    1                 0   \n",
       "2                                    0                    1                 0   \n",
       "3                                    0                    1                 0   \n",
       "4                                    0                    1                 0   \n",
       "...                                ...                  ...               ...   \n",
       "21014                                0                    1                 0   \n",
       "21015                                0                    1                 0   \n",
       "21016                                0                    1                 0   \n",
       "21017                                0                    1                 0   \n",
       "21018                                0                    1                 0   \n",
       "\n",
       "       Restos_tipo_Miembros  Restos_tipo_Restos cremados  \\\n",
       "0                         0                            1   \n",
       "1                         0                            0   \n",
       "2                         0                            0   \n",
       "3                         0                            0   \n",
       "4                         0                            0   \n",
       "...                     ...                          ...   \n",
       "21014                     0                            0   \n",
       "21015                     0                            0   \n",
       "21016                     0                            0   \n",
       "21017                     0                            0   \n",
       "21018                     0                            0   \n",
       "\n",
       "       Restos_tipo_Restos humanos  Restos_tipo_Restos óseos  \\\n",
       "0                               0                         0   \n",
       "1                               0                         0   \n",
       "2                               0                         0   \n",
       "3                               0                         0   \n",
       "4                               0                         0   \n",
       "...                           ...                       ...   \n",
       "21014                           0                         0   \n",
       "21015                           0                         0   \n",
       "21016                           0                         0   \n",
       "21017                           0                         0   \n",
       "21018                           0                         0   \n",
       "\n",
       "       Conocido_Desconocido  \n",
       "0                         1  \n",
       "1                         1  \n",
       "2                         0  \n",
       "3                         1  \n",
       "4                         1  \n",
       "...                     ...  \n",
       "21014                     1  \n",
       "21015                     1  \n",
       "21016                     1  \n",
       "21017                     1  \n",
       "21018                     0  \n",
       "\n",
       "[19980 rows x 35 columns]"
      ]
     },
     "execution_count": 88,
     "metadata": {},
     "output_type": "execute_result"
    }
   ],
   "source": [
    "df3 = pd.concat([X_encoded,y], axis=1)\n",
    "df3"
   ]
  },
  {
   "cell_type": "code",
   "execution_count": 89,
   "id": "6a395df4",
   "metadata": {},
   "outputs": [],
   "source": [
    "#ruta = \"/Users/Lesli/Documents/Ciencia de datos/Proyecto final/DatosLimpios4Var.csv\"\n",
    "#df3.to_csv(ruta)"
   ]
  },
  {
   "cell_type": "code",
   "execution_count": 90,
   "id": "54bc40d3",
   "metadata": {},
   "outputs": [],
   "source": [
    "X_train, X_test, y_train, y_test = train_test_split(X_encoded, y, random_state=42)\n",
    "#Crear un árbol de decisión y lo ajusta a los datos de entrenamiento\n",
    "clf_dt = DecisionTreeClassifier(random_state=42)\n",
    "clf_dt = clf_dt.fit(X_train, y_train)"
   ]
  },
  {
   "cell_type": "code",
   "execution_count": 91,
   "id": "ae2227f3",
   "metadata": {},
   "outputs": [
    {
     "data": {
      "image/png": "[encoded data removed]",
      "text/plain": [
       "<Figure size 1080x540 with 1 Axes>"
      ]
     },
     "metadata": {
      "needs_background": "light"
     },
     "output_type": "display_data"
    }
   ],
   "source": [
    "#Gráfica\n",
    "plt.figure(figsize=(15, 7.5))\n",
    "plot_tree(clf_dt,\n",
    "         filled=True,\n",
    "         rounded=True,\n",
    "         class_names=[\"Conocido\", \"Desconocido\"],\n",
    "         feature_names=X_encoded.columns);"
   ]
  },
  {
   "cell_type": "code",
   "execution_count": 92,
   "id": "02da8d62",
   "metadata": {},
   "outputs": [
    {
     "data": {
      "text/plain": [
       "Index(['Edad', 'Municipio_origen_Guadalajara', 'Municipio_origen_Hermosillo',\n",
       "       'Municipio_origen_Heroica Guaymas', 'Municipio_origen_Miguel Hidalgo',\n",
       "       'Municipio_origen_Minatitlán', 'Municipio_origen_Puebla de Zaragoza',\n",
       "       'Municipio_origen_Puerto Vallarta',\n",
       "       'Municipio_origen_San Cristóbal de las Casas',\n",
       "       'Municipio_origen_Teziutlán', 'Municipio_origen_Veracruz',\n",
       "       'Municipio_origen_Xalapa', 'Panteón_origen_Cementerio El Progreso',\n",
       "       'Panteón_origen_Panteon Municipal de Teziutlán',\n",
       "       'Panteón_origen_Panteón Civil de Dolores',\n",
       "       'Panteón_origen_Panteón Héroes Civiles de Guaymas',\n",
       "       'Panteón_origen_Panteón Mezquitán', 'Panteón_origen_Panteón Municipal',\n",
       "       'Panteón_origen_Panteón Municipal Bosques de Xalapa',\n",
       "       'Panteón_origen_Panteón Municipal Hidalgo',\n",
       "       'Panteón_origen_Panteón Municipal de Puebla',\n",
       "       'Panteón_origen_Panteón Municipal de Veracruz',\n",
       "       'Panteón_origen_Panteón Norte',\n",
       "       'Panteón_origen_Panteón Nuevo Guadalajara',\n",
       "       'Panteón_origen_Panteón Palo Verde',\n",
       "       'Panteón_origen_Panteón Parque Memorial',\n",
       "       'Panteón_origen_Panteón Sahuaro', 'Panteón_origen_Panteón Xalapeño',\n",
       "       'Restos_tipo_Cadáver', 'Restos_tipo_Feto', 'Restos_tipo_Miembros',\n",
       "       'Restos_tipo_Restos cremados', 'Restos_tipo_Restos humanos',\n",
       "       'Restos_tipo_Restos óseos'],\n",
       "      dtype='object')"
      ]
     },
     "execution_count": 92,
     "metadata": {},
     "output_type": "execute_result"
    }
   ],
   "source": [
    "#from sklearn.tree import export_text\n",
    "X_encoded.columns"
   ]
  },
  {
   "cell_type": "code",
   "execution_count": 93,
   "id": "33e53bda",
   "metadata": {},
   "outputs": [],
   "source": [
    "from sklearn.tree import export_text"
   ]
  },
  {
   "cell_type": "code",
   "execution_count": 94,
   "id": "19af9b33",
   "metadata": {},
   "outputs": [
    {
     "name": "stdout",
     "output_type": "stream",
     "text": [
      "|--- Edad <= 60.50\n",
      "|   |--- Restos_tipo_Miembros <= 0.50\n",
      "|   |   |--- Restos_tipo_Restos humanos <= 0.50\n",
      "|   |   |   |--- Panteón_origen_Panteón Héroes Civiles de Guaymas <= 0.50\n",
      "|   |   |   |   |--- Restos_tipo_Restos cremados <= 0.50\n",
      "|   |   |   |   |   |--- Municipio_origen_Hermosillo <= 0.50\n",
      "|   |   |   |   |   |   |--- Panteón_origen_Panteon Municipal de Teziutlán <= 0.50\n",
      "|   |   |   |   |   |   |   |--- Edad <= 50.50\n",
      "|   |   |   |   |   |   |   |   |--- Municipio_origen_Veracruz <= 0.50\n",
      "|   |   |   |   |   |   |   |   |   |--- Panteón_origen_Panteón Xalapeño <= 0.50\n",
      "|   |   |   |   |   |   |   |   |   |   |--- Restos_tipo_Restos óseos <= 0.50\n",
      "|   |   |   |   |   |   |   |   |   |   |   |--- truncated branch of depth 25\n",
      "|   |   |   |   |   |   |   |   |   |   |--- Restos_tipo_Restos óseos >  0.50\n",
      "|   |   |   |   |   |   |   |   |   |   |   |--- truncated branch of depth 10\n",
      "|   |   |   |   |   |   |   |   |   |--- Panteón_origen_Panteón Xalapeño >  0.50\n",
      "|   |   |   |   |   |   |   |   |   |   |--- class: 0\n",
      "|   |   |   |   |   |   |   |   |--- Municipio_origen_Veracruz >  0.50\n",
      "|   |   |   |   |   |   |   |   |   |--- Edad <= 47.50\n",
      "|   |   |   |   |   |   |   |   |   |   |--- Edad <= 46.00\n",
      "|   |   |   |   |   |   |   |   |   |   |   |--- truncated branch of depth 8\n",
      "|   |   |   |   |   |   |   |   |   |   |--- Edad >  46.00\n",
      "|   |   |   |   |   |   |   |   |   |   |   |--- truncated branch of depth 3\n",
      "|   |   |   |   |   |   |   |   |   |--- Edad >  47.50\n",
      "|   |   |   |   |   |   |   |   |   |   |--- Edad <= 49.00\n",
      "|   |   |   |   |   |   |   |   |   |   |   |--- class: 0\n",
      "|   |   |   |   |   |   |   |   |   |   |--- Edad >  49.00\n",
      "|   |   |   |   |   |   |   |   |   |   |   |--- class: 0\n",
      "|   |   |   |   |   |   |   |--- Edad >  50.50\n",
      "|   |   |   |   |   |   |   |   |--- Edad <= 54.50\n",
      "|   |   |   |   |   |   |   |   |   |--- Panteón_origen_Panteón Municipal <= 0.50\n",
      "|   |   |   |   |   |   |   |   |   |   |--- Panteón_origen_Panteón Mezquitán <= 0.50\n",
      "|   |   |   |   |   |   |   |   |   |   |   |--- truncated branch of depth 7\n",
      "|   |   |   |   |   |   |   |   |   |   |--- Panteón_origen_Panteón Mezquitán >  0.50\n",
      "|   |   |   |   |   |   |   |   |   |   |   |--- truncated branch of depth 2\n",
      "|   |   |   |   |   |   |   |   |   |--- Panteón_origen_Panteón Municipal >  0.50\n",
      "|   |   |   |   |   |   |   |   |   |   |--- Edad <= 52.50\n",
      "|   |   |   |   |   |   |   |   |   |   |   |--- class: 0\n",
      "|   |   |   |   |   |   |   |   |   |   |--- Edad >  52.50\n",
      "|   |   |   |   |   |   |   |   |   |   |   |--- class: 1\n",
      "|   |   |   |   |   |   |   |   |--- Edad >  54.50\n",
      "|   |   |   |   |   |   |   |   |   |--- Edad <= 59.50\n",
      "|   |   |   |   |   |   |   |   |   |   |--- Edad <= 55.50\n",
      "|   |   |   |   |   |   |   |   |   |   |   |--- truncated branch of depth 6\n",
      "|   |   |   |   |   |   |   |   |   |   |--- Edad >  55.50\n",
      "|   |   |   |   |   |   |   |   |   |   |   |--- truncated branch of depth 6\n",
      "|   |   |   |   |   |   |   |   |   |--- Edad >  59.50\n",
      "|   |   |   |   |   |   |   |   |   |   |--- Panteón_origen_Panteón Civil de Dolores <= 0.50\n",
      "|   |   |   |   |   |   |   |   |   |   |   |--- truncated branch of depth 7\n",
      "|   |   |   |   |   |   |   |   |   |   |--- Panteón_origen_Panteón Civil de Dolores >  0.50\n",
      "|   |   |   |   |   |   |   |   |   |   |   |--- class: 1\n",
      "|   |   |   |   |   |   |--- Panteón_origen_Panteon Municipal de Teziutlán >  0.50\n",
      "|   |   |   |   |   |   |   |--- Restos_tipo_Cadáver <= 0.50\n",
      "|   |   |   |   |   |   |   |   |--- Edad <= 23.50\n",
      "|   |   |   |   |   |   |   |   |   |--- class: 0\n",
      "|   |   |   |   |   |   |   |   |--- Edad >  23.50\n",
      "|   |   |   |   |   |   |   |   |   |--- class: 1\n",
      "|   |   |   |   |   |   |   |--- Restos_tipo_Cadáver >  0.50\n",
      "|   |   |   |   |   |   |   |   |--- Edad <= 35.50\n",
      "|   |   |   |   |   |   |   |   |   |--- class: 0\n",
      "|   |   |   |   |   |   |   |   |--- Edad >  35.50\n",
      "|   |   |   |   |   |   |   |   |   |--- Edad <= 39.00\n",
      "|   |   |   |   |   |   |   |   |   |   |--- Edad <= 37.50\n",
      "|   |   |   |   |   |   |   |   |   |   |   |--- class: 1\n",
      "|   |   |   |   |   |   |   |   |   |   |--- Edad >  37.50\n",
      "|   |   |   |   |   |   |   |   |   |   |   |--- class: 0\n",
      "|   |   |   |   |   |   |   |   |   |--- Edad >  39.00\n",
      "|   |   |   |   |   |   |   |   |   |   |--- Edad <= 47.50\n",
      "|   |   |   |   |   |   |   |   |   |   |   |--- truncated branch of depth 2\n",
      "|   |   |   |   |   |   |   |   |   |   |--- Edad >  47.50\n",
      "|   |   |   |   |   |   |   |   |   |   |   |--- class: 0\n",
      "|   |   |   |   |   |--- Municipio_origen_Hermosillo >  0.50\n",
      "|   |   |   |   |   |   |--- Panteón_origen_Panteón Sahuaro <= 0.50\n",
      "|   |   |   |   |   |   |   |--- Edad <= 45.00\n",
      "|   |   |   |   |   |   |   |   |--- class: 0\n",
      "|   |   |   |   |   |   |   |--- Edad >  45.00\n",
      "|   |   |   |   |   |   |   |   |--- Edad <= 48.50\n",
      "|   |   |   |   |   |   |   |   |   |--- class: 0\n",
      "|   |   |   |   |   |   |   |   |--- Edad >  48.50\n",
      "|   |   |   |   |   |   |   |   |   |--- class: 0\n",
      "|   |   |   |   |   |   |--- Panteón_origen_Panteón Sahuaro >  0.50\n",
      "|   |   |   |   |   |   |   |--- class: 0\n",
      "|   |   |   |   |--- Restos_tipo_Restos cremados >  0.50\n",
      "|   |   |   |   |   |--- Edad <= 45.50\n",
      "|   |   |   |   |   |   |--- Edad <= 40.50\n",
      "|   |   |   |   |   |   |   |--- Edad <= 34.50\n",
      "|   |   |   |   |   |   |   |   |--- Edad <= 30.50\n",
      "|   |   |   |   |   |   |   |   |   |--- Edad <= 29.50\n",
      "|   |   |   |   |   |   |   |   |   |   |--- Edad <= 26.00\n",
      "|   |   |   |   |   |   |   |   |   |   |   |--- truncated branch of depth 7\n",
      "|   |   |   |   |   |   |   |   |   |   |--- Edad >  26.00\n",
      "|   |   |   |   |   |   |   |   |   |   |   |--- truncated branch of depth 3\n",
      "|   |   |   |   |   |   |   |   |   |--- Edad >  29.50\n",
      "|   |   |   |   |   |   |   |   |   |   |--- class: 1\n",
      "|   |   |   |   |   |   |   |   |--- Edad >  30.50\n",
      "|   |   |   |   |   |   |   |   |   |--- Edad <= 31.50\n",
      "|   |   |   |   |   |   |   |   |   |   |--- class: 0\n",
      "|   |   |   |   |   |   |   |   |   |--- Edad >  31.50\n",
      "|   |   |   |   |   |   |   |   |   |   |--- Edad <= 32.50\n",
      "|   |   |   |   |   |   |   |   |   |   |   |--- class: 0\n",
      "|   |   |   |   |   |   |   |   |   |   |--- Edad >  32.50\n",
      "|   |   |   |   |   |   |   |   |   |   |   |--- truncated branch of depth 2\n",
      "|   |   |   |   |   |   |   |--- Edad >  34.50\n",
      "|   |   |   |   |   |   |   |   |--- Edad <= 35.50\n",
      "|   |   |   |   |   |   |   |   |   |--- class: 1\n",
      "|   |   |   |   |   |   |   |   |--- Edad >  35.50\n",
      "|   |   |   |   |   |   |   |   |   |--- Edad <= 39.50\n",
      "|   |   |   |   |   |   |   |   |   |   |--- Edad <= 37.50\n",
      "|   |   |   |   |   |   |   |   |   |   |   |--- truncated branch of depth 2\n",
      "|   |   |   |   |   |   |   |   |   |   |--- Edad >  37.50\n",
      "|   |   |   |   |   |   |   |   |   |   |   |--- truncated branch of depth 2\n",
      "|   |   |   |   |   |   |   |   |   |--- Edad >  39.50\n",
      "|   |   |   |   |   |   |   |   |   |   |--- class: 1\n",
      "|   |   |   |   |   |   |--- Edad >  40.50\n",
      "|   |   |   |   |   |   |   |--- Edad <= 44.50\n",
      "|   |   |   |   |   |   |   |   |--- Edad <= 41.50\n",
      "|   |   |   |   |   |   |   |   |   |--- class: 0\n",
      "|   |   |   |   |   |   |   |   |--- Edad >  41.50\n",
      "|   |   |   |   |   |   |   |   |   |--- Edad <= 42.50\n",
      "|   |   |   |   |   |   |   |   |   |   |--- class: 0\n",
      "|   |   |   |   |   |   |   |   |   |--- Edad >  42.50\n",
      "|   |   |   |   |   |   |   |   |   |   |--- Edad <= 43.50\n",
      "|   |   |   |   |   |   |   |   |   |   |   |--- class: 0\n",
      "|   |   |   |   |   |   |   |   |   |   |--- Edad >  43.50\n",
      "|   |   |   |   |   |   |   |   |   |   |   |--- class: 0\n",
      "|   |   |   |   |   |   |   |--- Edad >  44.50\n",
      "|   |   |   |   |   |   |   |   |--- class: 1\n",
      "|   |   |   |   |   |--- Edad >  45.50\n",
      "|   |   |   |   |   |   |--- Edad <= 49.50\n",
      "|   |   |   |   |   |   |   |--- Panteón_origen_Panteón Civil de Dolores <= 0.50\n",
      "|   |   |   |   |   |   |   |   |--- class: 0\n",
      "|   |   |   |   |   |   |   |--- Panteón_origen_Panteón Civil de Dolores >  0.50\n",
      "|   |   |   |   |   |   |   |   |--- Edad <= 46.50\n",
      "|   |   |   |   |   |   |   |   |   |--- class: 0\n",
      "|   |   |   |   |   |   |   |   |--- Edad >  46.50\n",
      "|   |   |   |   |   |   |   |   |   |--- Edad <= 48.50\n",
      "|   |   |   |   |   |   |   |   |   |   |--- Edad <= 47.50\n",
      "|   |   |   |   |   |   |   |   |   |   |   |--- class: 0\n",
      "|   |   |   |   |   |   |   |   |   |   |--- Edad >  47.50\n",
      "|   |   |   |   |   |   |   |   |   |   |   |--- class: 0\n",
      "|   |   |   |   |   |   |   |   |   |--- Edad >  48.50\n",
      "|   |   |   |   |   |   |   |   |   |   |--- class: 0\n",
      "|   |   |   |   |   |   |--- Edad >  49.50\n",
      "|   |   |   |   |   |   |   |--- Edad <= 50.50\n",
      "|   |   |   |   |   |   |   |   |--- class: 1\n",
      "|   |   |   |   |   |   |   |--- Edad >  50.50\n",
      "|   |   |   |   |   |   |   |   |--- Edad <= 59.50\n",
      "|   |   |   |   |   |   |   |   |   |--- Edad <= 55.50\n",
      "|   |   |   |   |   |   |   |   |   |   |--- Edad <= 54.50\n",
      "|   |   |   |   |   |   |   |   |   |   |   |--- truncated branch of depth 4\n",
      "|   |   |   |   |   |   |   |   |   |   |--- Edad >  54.50\n",
      "|   |   |   |   |   |   |   |   |   |   |   |--- class: 0\n",
      "|   |   |   |   |   |   |   |   |   |--- Edad >  55.50\n",
      "|   |   |   |   |   |   |   |   |   |   |--- Edad <= 57.50\n",
      "|   |   |   |   |   |   |   |   |   |   |   |--- truncated branch of depth 2\n",
      "|   |   |   |   |   |   |   |   |   |   |--- Edad >  57.50\n",
      "|   |   |   |   |   |   |   |   |   |   |   |--- class: 0\n",
      "|   |   |   |   |   |   |   |   |--- Edad >  59.50\n",
      "|   |   |   |   |   |   |   |   |   |--- class: 0\n",
      "|   |   |   |--- Panteón_origen_Panteón Héroes Civiles de Guaymas >  0.50\n",
      "|   |   |   |   |--- class: 0\n",
      "|   |   |--- Restos_tipo_Restos humanos >  0.50\n",
      "|   |   |   |--- Municipio_origen_Miguel Hidalgo <= 0.50\n",
      "|   |   |   |   |--- class: 1\n",
      "|   |   |   |--- Municipio_origen_Miguel Hidalgo >  0.50\n",
      "|   |   |   |   |--- Edad <= 46.50\n",
      "|   |   |   |   |   |--- Edad <= 0.50\n",
      "|   |   |   |   |   |   |--- class: 1\n",
      "|   |   |   |   |   |--- Edad >  0.50\n",
      "|   |   |   |   |   |   |--- Edad <= 29.50\n",
      "|   |   |   |   |   |   |   |--- Edad <= 25.50\n",
      "|   |   |   |   |   |   |   |   |--- Edad <= 24.50\n",
      "|   |   |   |   |   |   |   |   |   |--- Edad <= 20.50\n",
      "|   |   |   |   |   |   |   |   |   |   |--- Edad <= 19.50\n",
      "|   |   |   |   |   |   |   |   |   |   |   |--- class: 0\n",
      "|   |   |   |   |   |   |   |   |   |   |--- Edad >  19.50\n",
      "|   |   |   |   |   |   |   |   |   |   |   |--- class: 0\n",
      "|   |   |   |   |   |   |   |   |   |--- Edad >  20.50\n",
      "|   |   |   |   |   |   |   |   |   |   |--- class: 0\n",
      "|   |   |   |   |   |   |   |   |--- Edad >  24.50\n",
      "|   |   |   |   |   |   |   |   |   |--- class: 0\n",
      "|   |   |   |   |   |   |   |--- Edad >  25.50\n",
      "|   |   |   |   |   |   |   |   |--- class: 0\n",
      "|   |   |   |   |   |   |--- Edad >  29.50\n",
      "|   |   |   |   |   |   |   |--- Edad <= 30.50\n",
      "|   |   |   |   |   |   |   |   |--- class: 0\n",
      "|   |   |   |   |   |   |   |--- Edad >  30.50\n",
      "|   |   |   |   |   |   |   |   |--- Edad <= 39.50\n",
      "|   |   |   |   |   |   |   |   |   |--- Edad <= 33.50\n",
      "|   |   |   |   |   |   |   |   |   |   |--- Edad <= 32.50\n",
      "|   |   |   |   |   |   |   |   |   |   |   |--- class: 0\n",
      "|   |   |   |   |   |   |   |   |   |   |--- Edad >  32.50\n",
      "|   |   |   |   |   |   |   |   |   |   |   |--- class: 0\n",
      "|   |   |   |   |   |   |   |   |   |--- Edad >  33.50\n",
      "|   |   |   |   |   |   |   |   |   |   |--- class: 0\n",
      "|   |   |   |   |   |   |   |   |--- Edad >  39.50\n",
      "|   |   |   |   |   |   |   |   |   |--- Edad <= 40.50\n",
      "|   |   |   |   |   |   |   |   |   |   |--- class: 0\n",
      "|   |   |   |   |   |   |   |   |   |--- Edad >  40.50\n",
      "|   |   |   |   |   |   |   |   |   |   |--- Edad <= 41.50\n",
      "|   |   |   |   |   |   |   |   |   |   |   |--- class: 0\n",
      "|   |   |   |   |   |   |   |   |   |   |--- Edad >  41.50\n",
      "|   |   |   |   |   |   |   |   |   |   |   |--- truncated branch of depth 4\n",
      "|   |   |   |   |--- Edad >  46.50\n",
      "|   |   |   |   |   |--- Edad <= 50.50\n",
      "|   |   |   |   |   |   |--- Edad <= 48.00\n",
      "|   |   |   |   |   |   |   |--- class: 0\n",
      "|   |   |   |   |   |   |--- Edad >  48.00\n",
      "|   |   |   |   |   |   |   |--- Edad <= 49.50\n",
      "|   |   |   |   |   |   |   |   |--- class: 0\n",
      "|   |   |   |   |   |   |   |--- Edad >  49.50\n",
      "|   |   |   |   |   |   |   |   |--- class: 0\n",
      "|   |   |   |   |   |--- Edad >  50.50\n",
      "|   |   |   |   |   |   |--- class: 0\n",
      "|   |--- Restos_tipo_Miembros >  0.50\n",
      "|   |   |--- Panteón_origen_Panteón Norte <= 0.50\n",
      "|   |   |   |--- Edad <= 46.50\n",
      "|   |   |   |   |--- Edad <= 0.50\n",
      "|   |   |   |   |   |--- class: 0\n",
      "|   |   |   |   |--- Edad >  0.50\n",
      "|   |   |   |   |   |--- Edad <= 32.50\n",
      "|   |   |   |   |   |   |--- Edad <= 12.50\n",
      "|   |   |   |   |   |   |   |--- Edad <= 11.50\n",
      "|   |   |   |   |   |   |   |   |--- class: 0\n",
      "|   |   |   |   |   |   |   |--- Edad >  11.50\n",
      "|   |   |   |   |   |   |   |   |--- class: 0\n",
      "|   |   |   |   |   |   |--- Edad >  12.50\n",
      "|   |   |   |   |   |   |   |--- Edad <= 29.50\n",
      "|   |   |   |   |   |   |   |   |--- Edad <= 22.50\n",
      "|   |   |   |   |   |   |   |   |   |--- Edad <= 21.50\n",
      "|   |   |   |   |   |   |   |   |   |   |--- class: 0\n",
      "|   |   |   |   |   |   |   |   |   |--- Edad >  21.50\n",
      "|   |   |   |   |   |   |   |   |   |   |--- class: 0\n",
      "|   |   |   |   |   |   |   |   |--- Edad >  22.50\n",
      "|   |   |   |   |   |   |   |   |   |--- class: 0\n",
      "|   |   |   |   |   |   |   |--- Edad >  29.50\n",
      "|   |   |   |   |   |   |   |   |--- Edad <= 30.50\n",
      "|   |   |   |   |   |   |   |   |   |--- class: 0\n",
      "|   |   |   |   |   |   |   |   |--- Edad >  30.50\n",
      "|   |   |   |   |   |   |   |   |   |--- class: 0\n",
      "|   |   |   |   |   |--- Edad >  32.50\n",
      "|   |   |   |   |   |   |--- Edad <= 40.50\n",
      "|   |   |   |   |   |   |   |--- Edad <= 34.50\n",
      "|   |   |   |   |   |   |   |   |--- Edad <= 33.50\n",
      "|   |   |   |   |   |   |   |   |   |--- class: 0\n",
      "|   |   |   |   |   |   |   |   |--- Edad >  33.50\n",
      "|   |   |   |   |   |   |   |   |   |--- class: 0\n",
      "|   |   |   |   |   |   |   |--- Edad >  34.50\n",
      "|   |   |   |   |   |   |   |   |--- Edad <= 35.50\n",
      "|   |   |   |   |   |   |   |   |   |--- class: 0\n",
      "|   |   |   |   |   |   |   |   |--- Edad >  35.50\n",
      "|   |   |   |   |   |   |   |   |   |--- Edad <= 37.50\n",
      "|   |   |   |   |   |   |   |   |   |   |--- Edad <= 36.50\n",
      "|   |   |   |   |   |   |   |   |   |   |   |--- class: 0\n",
      "|   |   |   |   |   |   |   |   |   |   |--- Edad >  36.50\n",
      "|   |   |   |   |   |   |   |   |   |   |   |--- class: 0\n",
      "|   |   |   |   |   |   |   |   |   |--- Edad >  37.50\n",
      "|   |   |   |   |   |   |   |   |   |   |--- Edad <= 38.50\n",
      "|   |   |   |   |   |   |   |   |   |   |   |--- class: 0\n",
      "|   |   |   |   |   |   |   |   |   |   |--- Edad >  38.50\n",
      "|   |   |   |   |   |   |   |   |   |   |   |--- truncated branch of depth 2\n",
      "|   |   |   |   |   |   |--- Edad >  40.50\n",
      "|   |   |   |   |   |   |   |--- class: 0\n",
      "|   |   |   |--- Edad >  46.50\n",
      "|   |   |   |   |--- Edad <= 50.50\n",
      "|   |   |   |   |   |--- Edad <= 49.50\n",
      "|   |   |   |   |   |   |--- Edad <= 47.50\n",
      "|   |   |   |   |   |   |   |--- Municipio_origen_Miguel Hidalgo <= 0.50\n",
      "|   |   |   |   |   |   |   |   |--- class: 0\n",
      "|   |   |   |   |   |   |   |--- Municipio_origen_Miguel Hidalgo >  0.50\n",
      "|   |   |   |   |   |   |   |   |--- class: 0\n",
      "|   |   |   |   |   |   |--- Edad >  47.50\n",
      "|   |   |   |   |   |   |   |--- class: 0\n",
      "|   |   |   |   |   |--- Edad >  49.50\n",
      "|   |   |   |   |   |   |--- class: 0\n",
      "|   |   |   |   |--- Edad >  50.50\n",
      "|   |   |   |   |   |--- Edad <= 59.50\n",
      "|   |   |   |   |   |   |--- class: 0\n",
      "|   |   |   |   |   |--- Edad >  59.50\n",
      "|   |   |   |   |   |   |--- class: 0\n",
      "|   |   |--- Panteón_origen_Panteón Norte >  0.50\n",
      "|   |   |   |--- class: 1\n",
      "|--- Edad >  60.50\n",
      "|   |--- Edad <= 70.50\n",
      "|   |   |--- Edad <= 64.50\n",
      "|   |   |   |--- Restos_tipo_Restos óseos <= 0.50\n",
      "|   |   |   |   |--- Municipio_origen_Guadalajara <= 0.50\n",
      "|   |   |   |   |   |--- Panteón_origen_Panteón Municipal de Veracruz <= 0.50\n",
      "|   |   |   |   |   |   |--- Edad <= 63.50\n",
      "|   |   |   |   |   |   |   |--- Panteón_origen_Panteón Civil de Dolores <= 0.50\n",
      "|   |   |   |   |   |   |   |   |--- class: 0\n",
      "|   |   |   |   |   |   |   |--- Panteón_origen_Panteón Civil de Dolores >  0.50\n",
      "|   |   |   |   |   |   |   |   |--- Restos_tipo_Cadáver <= 0.50\n",
      "|   |   |   |   |   |   |   |   |   |--- Edad <= 61.50\n",
      "|   |   |   |   |   |   |   |   |   |   |--- class: 0\n",
      "|   |   |   |   |   |   |   |   |   |--- Edad >  61.50\n",
      "|   |   |   |   |   |   |   |   |   |   |--- Restos_tipo_Restos cremados <= 0.50\n",
      "|   |   |   |   |   |   |   |   |   |   |   |--- class: 0\n",
      "|   |   |   |   |   |   |   |   |   |   |--- Restos_tipo_Restos cremados >  0.50\n",
      "|   |   |   |   |   |   |   |   |   |   |   |--- truncated branch of depth 2\n",
      "|   |   |   |   |   |   |   |   |--- Restos_tipo_Cadáver >  0.50\n",
      "|   |   |   |   |   |   |   |   |   |--- Edad <= 61.50\n",
      "|   |   |   |   |   |   |   |   |   |   |--- class: 0\n",
      "|   |   |   |   |   |   |   |   |   |--- Edad >  61.50\n",
      "|   |   |   |   |   |   |   |   |   |   |--- Edad <= 62.50\n",
      "|   |   |   |   |   |   |   |   |   |   |   |--- class: 0\n",
      "|   |   |   |   |   |   |   |   |   |   |--- Edad >  62.50\n",
      "|   |   |   |   |   |   |   |   |   |   |   |--- class: 0\n",
      "|   |   |   |   |   |   |--- Edad >  63.50\n",
      "|   |   |   |   |   |   |   |--- Panteón_origen_Panteón Civil de Dolores <= 0.50\n",
      "|   |   |   |   |   |   |   |   |--- class: 0\n",
      "|   |   |   |   |   |   |   |--- Panteón_origen_Panteón Civil de Dolores >  0.50\n",
      "|   |   |   |   |   |   |   |   |--- Restos_tipo_Miembros <= 0.50\n",
      "|   |   |   |   |   |   |   |   |   |--- Restos_tipo_Restos humanos <= 0.50\n",
      "|   |   |   |   |   |   |   |   |   |   |--- Restos_tipo_Restos cremados <= 0.50\n",
      "|   |   |   |   |   |   |   |   |   |   |   |--- class: 0\n",
      "|   |   |   |   |   |   |   |   |   |   |--- Restos_tipo_Restos cremados >  0.50\n",
      "|   |   |   |   |   |   |   |   |   |   |   |--- class: 0\n",
      "|   |   |   |   |   |   |   |   |   |--- Restos_tipo_Restos humanos >  0.50\n",
      "|   |   |   |   |   |   |   |   |   |   |--- class: 0\n",
      "|   |   |   |   |   |   |   |   |--- Restos_tipo_Miembros >  0.50\n",
      "|   |   |   |   |   |   |   |   |   |--- class: 0\n",
      "|   |   |   |   |   |--- Panteón_origen_Panteón Municipal de Veracruz >  0.50\n",
      "|   |   |   |   |   |   |--- Edad <= 62.00\n",
      "|   |   |   |   |   |   |   |--- class: 0\n",
      "|   |   |   |   |   |   |--- Edad >  62.00\n",
      "|   |   |   |   |   |   |   |--- class: 0\n",
      "|   |   |   |   |--- Municipio_origen_Guadalajara >  0.50\n",
      "|   |   |   |   |   |--- Edad <= 62.50\n",
      "|   |   |   |   |   |   |--- class: 0\n",
      "|   |   |   |   |   |--- Edad >  62.50\n",
      "|   |   |   |   |   |   |--- class: 1\n",
      "|   |   |   |--- Restos_tipo_Restos óseos >  0.50\n",
      "|   |   |   |   |--- class: 1\n",
      "|   |   |--- Edad >  64.50\n",
      "|   |   |   |--- Edad <= 65.50\n",
      "|   |   |   |   |--- Restos_tipo_Cadáver <= 0.50\n",
      "|   |   |   |   |   |--- Municipio_origen_Xalapa <= 0.50\n",
      "|   |   |   |   |   |   |--- Restos_tipo_Restos cremados <= 0.50\n",
      "|   |   |   |   |   |   |   |--- class: 0\n",
      "|   |   |   |   |   |   |--- Restos_tipo_Restos cremados >  0.50\n",
      "|   |   |   |   |   |   |   |--- class: 0\n",
      "|   |   |   |   |   |--- Municipio_origen_Xalapa >  0.50\n",
      "|   |   |   |   |   |   |--- class: 1\n",
      "|   |   |   |   |--- Restos_tipo_Cadáver >  0.50\n",
      "|   |   |   |   |   |--- Municipio_origen_Miguel Hidalgo <= 0.50\n",
      "|   |   |   |   |   |   |--- Panteón_origen_Panteón Palo Verde <= 0.50\n",
      "|   |   |   |   |   |   |   |--- class: 0\n",
      "|   |   |   |   |   |   |--- Panteón_origen_Panteón Palo Verde >  0.50\n",
      "|   |   |   |   |   |   |   |--- class: 0\n",
      "|   |   |   |   |   |--- Municipio_origen_Miguel Hidalgo >  0.50\n",
      "|   |   |   |   |   |   |--- class: 1\n",
      "|   |   |   |--- Edad >  65.50\n",
      "|   |   |   |   |--- Edad <= 69.50\n",
      "|   |   |   |   |   |--- Panteón_origen_Panteón Mezquitán <= 0.50\n",
      "|   |   |   |   |   |   |--- Restos_tipo_Cadáver <= 0.50\n",
      "|   |   |   |   |   |   |   |--- class: 0\n",
      "|   |   |   |   |   |   |--- Restos_tipo_Cadáver >  0.50\n",
      "|   |   |   |   |   |   |   |--- Edad <= 66.50\n",
      "|   |   |   |   |   |   |   |   |--- class: 0\n",
      "|   |   |   |   |   |   |   |--- Edad >  66.50\n",
      "|   |   |   |   |   |   |   |   |--- Edad <= 68.50\n",
      "|   |   |   |   |   |   |   |   |   |--- Panteón_origen_Panteón Nuevo Guadalajara <= 0.50\n",
      "|   |   |   |   |   |   |   |   |   |   |--- Panteón_origen_Panteón Civil de Dolores <= 0.50\n",
      "|   |   |   |   |   |   |   |   |   |   |   |--- class: 0\n",
      "|   |   |   |   |   |   |   |   |   |   |--- Panteón_origen_Panteón Civil de Dolores >  0.50\n",
      "|   |   |   |   |   |   |   |   |   |   |   |--- truncated branch of depth 2\n",
      "|   |   |   |   |   |   |   |   |   |--- Panteón_origen_Panteón Nuevo Guadalajara >  0.50\n",
      "|   |   |   |   |   |   |   |   |   |   |--- Edad <= 67.50\n",
      "|   |   |   |   |   |   |   |   |   |   |   |--- class: 0\n",
      "|   |   |   |   |   |   |   |   |   |   |--- Edad >  67.50\n",
      "|   |   |   |   |   |   |   |   |   |   |   |--- class: 1\n",
      "|   |   |   |   |   |   |   |   |--- Edad >  68.50\n",
      "|   |   |   |   |   |   |   |   |   |--- Municipio_origen_Miguel Hidalgo <= 0.50\n",
      "|   |   |   |   |   |   |   |   |   |   |--- class: 0\n",
      "|   |   |   |   |   |   |   |   |   |--- Municipio_origen_Miguel Hidalgo >  0.50\n",
      "|   |   |   |   |   |   |   |   |   |   |--- class: 0\n",
      "|   |   |   |   |   |--- Panteón_origen_Panteón Mezquitán >  0.50\n",
      "|   |   |   |   |   |   |--- Edad <= 67.50\n",
      "|   |   |   |   |   |   |   |--- class: 1\n",
      "|   |   |   |   |   |   |--- Edad >  67.50\n",
      "|   |   |   |   |   |   |   |--- class: 1\n",
      "|   |   |   |   |--- Edad >  69.50\n",
      "|   |   |   |   |   |--- Restos_tipo_Cadáver <= 0.50\n",
      "|   |   |   |   |   |   |--- Restos_tipo_Miembros <= 0.50\n",
      "|   |   |   |   |   |   |   |--- Panteón_origen_Panteón Palo Verde <= 0.50\n",
      "|   |   |   |   |   |   |   |   |--- Restos_tipo_Restos humanos <= 0.50\n",
      "|   |   |   |   |   |   |   |   |   |--- class: 0\n",
      "|   |   |   |   |   |   |   |   |--- Restos_tipo_Restos humanos >  0.50\n",
      "|   |   |   |   |   |   |   |   |   |--- class: 0\n",
      "|   |   |   |   |   |   |   |--- Panteón_origen_Panteón Palo Verde >  0.50\n",
      "|   |   |   |   |   |   |   |   |--- class: 1\n",
      "|   |   |   |   |   |   |--- Restos_tipo_Miembros >  0.50\n",
      "|   |   |   |   |   |   |   |--- class: 0\n",
      "|   |   |   |   |   |--- Restos_tipo_Cadáver >  0.50\n",
      "|   |   |   |   |   |   |--- Municipio_origen_Miguel Hidalgo <= 0.50\n",
      "|   |   |   |   |   |   |   |--- Panteón_origen_Panteón Municipal de Puebla <= 0.50\n",
      "|   |   |   |   |   |   |   |   |--- Municipio_origen_Veracruz <= 0.50\n",
      "|   |   |   |   |   |   |   |   |   |--- Panteón_origen_Panteón Palo Verde <= 0.50\n",
      "|   |   |   |   |   |   |   |   |   |   |--- class: 0\n",
      "|   |   |   |   |   |   |   |   |   |--- Panteón_origen_Panteón Palo Verde >  0.50\n",
      "|   |   |   |   |   |   |   |   |   |   |--- class: 0\n",
      "|   |   |   |   |   |   |   |   |--- Municipio_origen_Veracruz >  0.50\n",
      "|   |   |   |   |   |   |   |   |   |--- class: 0\n",
      "|   |   |   |   |   |   |   |--- Panteón_origen_Panteón Municipal de Puebla >  0.50\n",
      "|   |   |   |   |   |   |   |   |--- class: 1\n",
      "|   |   |   |   |   |   |--- Municipio_origen_Miguel Hidalgo >  0.50\n",
      "|   |   |   |   |   |   |   |--- class: 1\n",
      "|   |--- Edad >  70.50\n",
      "|   |   |--- Edad <= 80.50\n",
      "|   |   |   |--- Restos_tipo_Cadáver <= 0.50\n",
      "|   |   |   |   |--- Edad <= 79.50\n",
      "|   |   |   |   |   |--- Edad <= 75.50\n",
      "|   |   |   |   |   |   |--- Edad <= 74.50\n",
      "|   |   |   |   |   |   |   |--- Edad <= 72.50\n",
      "|   |   |   |   |   |   |   |   |--- Edad <= 71.50\n",
      "|   |   |   |   |   |   |   |   |   |--- class: 0\n",
      "|   |   |   |   |   |   |   |   |--- Edad >  71.50\n",
      "|   |   |   |   |   |   |   |   |   |--- Restos_tipo_Restos cremados <= 0.50\n",
      "|   |   |   |   |   |   |   |   |   |   |--- class: 0\n",
      "|   |   |   |   |   |   |   |   |   |--- Restos_tipo_Restos cremados >  0.50\n",
      "|   |   |   |   |   |   |   |   |   |   |--- class: 0\n",
      "|   |   |   |   |   |   |   |--- Edad >  72.50\n",
      "|   |   |   |   |   |   |   |   |--- class: 0\n",
      "|   |   |   |   |   |   |--- Edad >  74.50\n",
      "|   |   |   |   |   |   |   |--- Restos_tipo_Restos cremados <= 0.50\n",
      "|   |   |   |   |   |   |   |   |--- class: 0\n",
      "|   |   |   |   |   |   |   |--- Restos_tipo_Restos cremados >  0.50\n",
      "|   |   |   |   |   |   |   |   |--- class: 0\n",
      "|   |   |   |   |   |--- Edad >  75.50\n",
      "|   |   |   |   |   |   |--- Edad <= 77.50\n",
      "|   |   |   |   |   |   |   |--- class: 0\n",
      "|   |   |   |   |   |   |--- Edad >  77.50\n",
      "|   |   |   |   |   |   |   |--- Edad <= 78.50\n",
      "|   |   |   |   |   |   |   |   |--- Restos_tipo_Restos cremados <= 0.50\n",
      "|   |   |   |   |   |   |   |   |   |--- class: 0\n",
      "|   |   |   |   |   |   |   |   |--- Restos_tipo_Restos cremados >  0.50\n",
      "|   |   |   |   |   |   |   |   |   |--- class: 0\n",
      "|   |   |   |   |   |   |   |--- Edad >  78.50\n",
      "|   |   |   |   |   |   |   |   |--- class: 0\n",
      "|   |   |   |   |--- Edad >  79.50\n",
      "|   |   |   |   |   |--- Restos_tipo_Miembros <= 0.50\n",
      "|   |   |   |   |   |   |--- class: 0\n",
      "|   |   |   |   |   |--- Restos_tipo_Miembros >  0.50\n",
      "|   |   |   |   |   |   |--- class: 0\n",
      "|   |   |   |--- Restos_tipo_Cadáver >  0.50\n",
      "|   |   |   |   |--- Edad <= 74.50\n",
      "|   |   |   |   |   |--- Panteón_origen_Panteón Palo Verde <= 0.50\n",
      "|   |   |   |   |   |   |--- Municipio_origen_Guadalajara <= 0.50\n",
      "|   |   |   |   |   |   |   |--- Edad <= 71.50\n",
      "|   |   |   |   |   |   |   |   |--- class: 0\n",
      "|   |   |   |   |   |   |   |--- Edad >  71.50\n",
      "|   |   |   |   |   |   |   |   |--- Edad <= 72.50\n",
      "|   |   |   |   |   |   |   |   |   |--- Municipio_origen_Miguel Hidalgo <= 0.50\n",
      "|   |   |   |   |   |   |   |   |   |   |--- class: 0\n",
      "|   |   |   |   |   |   |   |   |   |--- Municipio_origen_Miguel Hidalgo >  0.50\n",
      "|   |   |   |   |   |   |   |   |   |   |--- class: 0\n",
      "|   |   |   |   |   |   |   |   |--- Edad >  72.50\n",
      "|   |   |   |   |   |   |   |   |   |--- Panteón_origen_Panteón Civil de Dolores <= 0.50\n",
      "|   |   |   |   |   |   |   |   |   |   |--- class: 0\n",
      "|   |   |   |   |   |   |   |   |   |--- Panteón_origen_Panteón Civil de Dolores >  0.50\n",
      "|   |   |   |   |   |   |   |   |   |   |--- Edad <= 73.50\n",
      "|   |   |   |   |   |   |   |   |   |   |   |--- class: 0\n",
      "|   |   |   |   |   |   |   |   |   |   |--- Edad >  73.50\n",
      "|   |   |   |   |   |   |   |   |   |   |   |--- class: 0\n",
      "|   |   |   |   |   |   |--- Municipio_origen_Guadalajara >  0.50\n",
      "|   |   |   |   |   |   |   |--- Edad <= 73.50\n",
      "|   |   |   |   |   |   |   |   |--- Edad <= 72.50\n",
      "|   |   |   |   |   |   |   |   |   |--- class: 0\n",
      "|   |   |   |   |   |   |   |   |--- Edad >  72.50\n",
      "|   |   |   |   |   |   |   |   |   |--- Panteón_origen_Panteón Mezquitán <= 0.50\n",
      "|   |   |   |   |   |   |   |   |   |   |--- class: 0\n",
      "|   |   |   |   |   |   |   |   |   |--- Panteón_origen_Panteón Mezquitán >  0.50\n",
      "|   |   |   |   |   |   |   |   |   |   |--- class: 0\n",
      "|   |   |   |   |   |   |   |--- Edad >  73.50\n",
      "|   |   |   |   |   |   |   |   |--- class: 0\n",
      "|   |   |   |   |   |--- Panteón_origen_Panteón Palo Verde >  0.50\n",
      "|   |   |   |   |   |   |--- Edad <= 72.50\n",
      "|   |   |   |   |   |   |   |--- Edad <= 71.50\n",
      "|   |   |   |   |   |   |   |   |--- class: 1\n",
      "|   |   |   |   |   |   |   |--- Edad >  71.50\n",
      "|   |   |   |   |   |   |   |   |--- class: 0\n",
      "|   |   |   |   |   |   |--- Edad >  72.50\n",
      "|   |   |   |   |   |   |   |--- class: 0\n",
      "|   |   |   |   |--- Edad >  74.50\n",
      "|   |   |   |   |   |--- Edad <= 75.50\n",
      "|   |   |   |   |   |   |--- Panteón_origen_Panteón Palo Verde <= 0.50\n",
      "|   |   |   |   |   |   |   |--- Panteón_origen_Panteón Civil de Dolores <= 0.50\n",
      "|   |   |   |   |   |   |   |   |--- class: 0\n",
      "|   |   |   |   |   |   |   |--- Panteón_origen_Panteón Civil de Dolores >  0.50\n",
      "|   |   |   |   |   |   |   |   |--- class: 0\n",
      "|   |   |   |   |   |   |--- Panteón_origen_Panteón Palo Verde >  0.50\n",
      "|   |   |   |   |   |   |   |--- class: 1\n",
      "|   |   |   |   |   |--- Edad >  75.50\n",
      "|   |   |   |   |   |   |--- Edad <= 79.50\n",
      "|   |   |   |   |   |   |   |--- Panteón_origen_Panteón Mezquitán <= 0.50\n",
      "|   |   |   |   |   |   |   |   |--- Panteón_origen_Panteón Civil de Dolores <= 0.50\n",
      "|   |   |   |   |   |   |   |   |   |--- class: 0\n",
      "|   |   |   |   |   |   |   |   |--- Panteón_origen_Panteón Civil de Dolores >  0.50\n",
      "|   |   |   |   |   |   |   |   |   |--- Edad <= 77.50\n",
      "|   |   |   |   |   |   |   |   |   |   |--- Edad <= 76.50\n",
      "|   |   |   |   |   |   |   |   |   |   |   |--- class: 0\n",
      "|   |   |   |   |   |   |   |   |   |   |--- Edad >  76.50\n",
      "|   |   |   |   |   |   |   |   |   |   |   |--- class: 0\n",
      "|   |   |   |   |   |   |   |   |   |--- Edad >  77.50\n",
      "|   |   |   |   |   |   |   |   |   |   |--- Edad <= 78.50\n",
      "|   |   |   |   |   |   |   |   |   |   |   |--- class: 0\n",
      "|   |   |   |   |   |   |   |   |   |   |--- Edad >  78.50\n",
      "|   |   |   |   |   |   |   |   |   |   |   |--- class: 0\n",
      "|   |   |   |   |   |   |   |--- Panteón_origen_Panteón Mezquitán >  0.50\n",
      "|   |   |   |   |   |   |   |   |--- class: 1\n",
      "|   |   |   |   |   |   |--- Edad >  79.50\n",
      "|   |   |   |   |   |   |   |--- Municipio_origen_Miguel Hidalgo <= 0.50\n",
      "|   |   |   |   |   |   |   |   |--- class: 0\n",
      "|   |   |   |   |   |   |   |--- Municipio_origen_Miguel Hidalgo >  0.50\n",
      "|   |   |   |   |   |   |   |   |--- class: 0\n",
      "|   |   |--- Edad >  80.50\n",
      "|   |   |   |--- Panteón_origen_Panteón Mezquitán <= 0.50\n",
      "|   |   |   |   |--- Restos_tipo_Cadáver <= 0.50\n",
      "|   |   |   |   |   |--- Edad <= 97.50\n",
      "|   |   |   |   |   |   |--- Edad <= 83.50\n",
      "|   |   |   |   |   |   |   |--- class: 0\n",
      "|   |   |   |   |   |   |--- Edad >  83.50\n",
      "|   |   |   |   |   |   |   |--- Edad <= 85.50\n",
      "|   |   |   |   |   |   |   |   |--- Restos_tipo_Restos cremados <= 0.50\n",
      "|   |   |   |   |   |   |   |   |   |--- class: 0\n",
      "|   |   |   |   |   |   |   |   |--- Restos_tipo_Restos cremados >  0.50\n",
      "|   |   |   |   |   |   |   |   |   |--- Edad <= 84.50\n",
      "|   |   |   |   |   |   |   |   |   |   |--- class: 0\n",
      "|   |   |   |   |   |   |   |   |   |--- Edad >  84.50\n",
      "|   |   |   |   |   |   |   |   |   |   |--- class: 0\n",
      "|   |   |   |   |   |   |   |--- Edad >  85.50\n",
      "|   |   |   |   |   |   |   |   |--- Edad <= 89.50\n",
      "|   |   |   |   |   |   |   |   |   |--- class: 0\n",
      "|   |   |   |   |   |   |   |   |--- Edad >  89.50\n",
      "|   |   |   |   |   |   |   |   |   |--- Edad <= 90.50\n",
      "|   |   |   |   |   |   |   |   |   |   |--- Restos_tipo_Restos cremados <= 0.50\n",
      "|   |   |   |   |   |   |   |   |   |   |   |--- class: 0\n",
      "|   |   |   |   |   |   |   |   |   |   |--- Restos_tipo_Restos cremados >  0.50\n",
      "|   |   |   |   |   |   |   |   |   |   |   |--- class: 0\n",
      "|   |   |   |   |   |   |   |   |   |--- Edad >  90.50\n",
      "|   |   |   |   |   |   |   |   |   |   |--- class: 0\n",
      "|   |   |   |   |   |--- Edad >  97.50\n",
      "|   |   |   |   |   |   |--- class: 0\n",
      "|   |   |   |   |--- Restos_tipo_Cadáver >  0.50\n",
      "|   |   |   |   |   |--- Edad <= 90.50\n",
      "|   |   |   |   |   |   |--- Edad <= 89.50\n",
      "|   |   |   |   |   |   |   |--- Panteón_origen_Panteón Municipal Hidalgo <= 0.50\n",
      "|   |   |   |   |   |   |   |   |--- Panteón_origen_Panteón Civil de Dolores <= 0.50\n",
      "|   |   |   |   |   |   |   |   |   |--- class: 0\n",
      "|   |   |   |   |   |   |   |   |--- Panteón_origen_Panteón Civil de Dolores >  0.50\n",
      "|   |   |   |   |   |   |   |   |   |--- Edad <= 88.50\n",
      "|   |   |   |   |   |   |   |   |   |   |--- Edad <= 86.50\n",
      "|   |   |   |   |   |   |   |   |   |   |   |--- truncated branch of depth 6\n",
      "|   |   |   |   |   |   |   |   |   |   |--- Edad >  86.50\n",
      "|   |   |   |   |   |   |   |   |   |   |   |--- truncated branch of depth 2\n",
      "|   |   |   |   |   |   |   |   |   |--- Edad >  88.50\n",
      "|   |   |   |   |   |   |   |   |   |   |--- class: 0\n",
      "|   |   |   |   |   |   |   |--- Panteón_origen_Panteón Municipal Hidalgo >  0.50\n",
      "|   |   |   |   |   |   |   |   |--- Edad <= 82.50\n",
      "|   |   |   |   |   |   |   |   |   |--- Edad <= 81.50\n",
      "|   |   |   |   |   |   |   |   |   |   |--- class: 0\n",
      "|   |   |   |   |   |   |   |   |   |--- Edad >  81.50\n",
      "|   |   |   |   |   |   |   |   |   |   |--- class: 0\n",
      "|   |   |   |   |   |   |   |   |--- Edad >  82.50\n",
      "|   |   |   |   |   |   |   |   |   |--- class: 0\n",
      "|   |   |   |   |   |   |--- Edad >  89.50\n",
      "|   |   |   |   |   |   |   |--- Panteón_origen_Panteón Civil de Dolores <= 0.50\n",
      "|   |   |   |   |   |   |   |   |--- class: 0\n",
      "|   |   |   |   |   |   |   |--- Panteón_origen_Panteón Civil de Dolores >  0.50\n",
      "|   |   |   |   |   |   |   |   |--- class: 0\n",
      "|   |   |   |   |   |--- Edad >  90.50\n",
      "|   |   |   |   |   |   |--- class: 0\n",
      "|   |   |   |--- Panteón_origen_Panteón Mezquitán >  0.50\n",
      "|   |   |   |   |--- Edad <= 92.00\n",
      "|   |   |   |   |   |--- class: 0\n",
      "|   |   |   |   |--- Edad >  92.00\n",
      "|   |   |   |   |   |--- class: 1\n",
      "\n"
     ]
    }
   ],
   "source": [
    " #r = export_text(Tree, feature_names=[iris['feature_names'][pair[0]],iris['feature_names'][pair[1]]])\n",
    "# print(r)\n",
    "r = export_text(clf_dt, feature_names=['Edad', 'Municipio_origen_Guadalajara', 'Municipio_origen_Hermosillo',\n",
    "       'Municipio_origen_Heroica Guaymas', 'Municipio_origen_Miguel Hidalgo',\n",
    "       'Municipio_origen_Minatitlán', 'Municipio_origen_Puebla de Zaragoza',\n",
    "       'Municipio_origen_Puerto Vallarta',\n",
    "       'Municipio_origen_San Cristóbal de las Casas',\n",
    "       'Municipio_origen_Teziutlán', 'Municipio_origen_Veracruz',\n",
    "       'Municipio_origen_Xalapa', 'Panteón_origen_Cementerio El Progreso',\n",
    "       'Panteón_origen_Panteon Municipal de Teziutlán',\n",
    "       'Panteón_origen_Panteón Civil de Dolores',\n",
    "       'Panteón_origen_Panteón Héroes Civiles de Guaymas',\n",
    "       'Panteón_origen_Panteón Mezquitán', 'Panteón_origen_Panteón Municipal',\n",
    "       'Panteón_origen_Panteón Municipal Bosques de Xalapa',\n",
    "       'Panteón_origen_Panteón Municipal Hidalgo',\n",
    "       'Panteón_origen_Panteón Municipal de Puebla',\n",
    "       'Panteón_origen_Panteón Municipal de Veracruz',\n",
    "       'Panteón_origen_Panteón Norte',\n",
    "       'Panteón_origen_Panteón Nuevo Guadalajara',\n",
    "       'Panteón_origen_Panteón Palo Verde',\n",
    "       'Panteón_origen_Panteón Parque Memorial',\n",
    "       'Panteón_origen_Panteón Sahuaro', 'Panteón_origen_Panteón Xalapeño',\n",
    "       'Restos_tipo_Cadáver', 'Restos_tipo_Feto', 'Restos_tipo_Miembros',\n",
    "       'Restos_tipo_Restos cremados', 'Restos_tipo_Restos humanos',\n",
    "       'Restos_tipo_Restos óseos'])\n",
    "print(r)"
   ]
  },
  {
   "cell_type": "code",
   "execution_count": 95,
   "id": "046cde9c",
   "metadata": {},
   "outputs": [],
   "source": [
    "predic = clf_dt.predict(X_encoded)"
   ]
  },
  {
   "cell_type": "markdown",
   "id": "7d728d4c",
   "metadata": {},
   "source": [
    "# Métrica"
   ]
  },
  {
   "cell_type": "code",
   "execution_count": 96,
   "id": "53242637",
   "metadata": {},
   "outputs": [
    {
     "data": {
      "text/html": [
       "<div>\n",
       "<style scoped>\n",
       "    .dataframe tbody tr th:only-of-type {\n",
       "        vertical-align: middle;\n",
       "    }\n",
       "\n",
       "    .dataframe tbody tr th {\n",
       "        vertical-align: top;\n",
       "    }\n",
       "\n",
       "    .dataframe thead th {\n",
       "        text-align: right;\n",
       "    }\n",
       "</style>\n",
       "<table border=\"1\" class=\"dataframe\">\n",
       "  <thead>\n",
       "    <tr style=\"text-align: right;\">\n",
       "      <th>Predicted</th>\n",
       "      <th>0</th>\n",
       "      <th>1</th>\n",
       "      <th>All</th>\n",
       "    </tr>\n",
       "    <tr>\n",
       "      <th>True</th>\n",
       "      <th></th>\n",
       "      <th></th>\n",
       "      <th></th>\n",
       "    </tr>\n",
       "  </thead>\n",
       "  <tbody>\n",
       "    <tr>\n",
       "      <th>0</th>\n",
       "      <td>7889</td>\n",
       "      <td>3436</td>\n",
       "      <td>11325</td>\n",
       "    </tr>\n",
       "    <tr>\n",
       "      <th>1</th>\n",
       "      <td>1031</td>\n",
       "      <td>7624</td>\n",
       "      <td>8655</td>\n",
       "    </tr>\n",
       "    <tr>\n",
       "      <th>All</th>\n",
       "      <td>8920</td>\n",
       "      <td>11060</td>\n",
       "      <td>19980</td>\n",
       "    </tr>\n",
       "  </tbody>\n",
       "</table>\n",
       "</div>"
      ],
      "text/plain": [
       "Predicted     0      1    All\n",
       "True                         \n",
       "0          7889   3436  11325\n",
       "1          1031   7624   8655\n",
       "All        8920  11060  19980"
      ]
     },
     "execution_count": 96,
     "metadata": {},
     "output_type": "execute_result"
    }
   ],
   "source": [
    "pd.crosstab(y, predic, rownames=['True'], colnames=['Predicted'], margins=True)"
   ]
  },
  {
   "cell_type": "code",
   "execution_count": 97,
   "id": "5c1c377e",
   "metadata": {},
   "outputs": [
    {
     "name": "stdout",
     "output_type": "stream",
     "text": [
      "              precision    recall  f1-score   support\n",
      "\n",
      "           0       0.88      0.70      0.78     11325\n",
      "           1       0.69      0.88      0.77      8655\n",
      "\n",
      "    accuracy                           0.78     19980\n",
      "   macro avg       0.79      0.79      0.78     19980\n",
      "weighted avg       0.80      0.78      0.78     19980\n",
      "\n"
     ]
    }
   ],
   "source": [
    "print(classification_report(y, predic))"
   ]
  },
  {
   "cell_type": "code",
   "execution_count": 98,
   "id": "bb3bbf0f",
   "metadata": {},
   "outputs": [
    {
     "data": {
      "text/plain": [
       "0.7764264264264265"
      ]
     },
     "execution_count": 98,
     "metadata": {},
     "output_type": "execute_result"
    }
   ],
   "source": [
    "accuracy_score(y, predic)"
   ]
  },
  {
   "cell_type": "code",
   "execution_count": 99,
   "id": "1be7f547",
   "metadata": {},
   "outputs": [],
   "source": [
    "from sklearn.metrics import RocCurveDisplay\n",
    "from sklearn.metrics import roc_auc_score"
   ]
  },
  {
   "cell_type": "code",
   "execution_count": 100,
   "id": "2bb2720f",
   "metadata": {},
   "outputs": [
    {
     "data": {
      "text/plain": [
       "(array([0.        , 0.30339956, 1.        ]),\n",
       " array([0.        , 0.88087811, 1.        ]),\n",
       " array([2, 1, 0]))"
      ]
     },
     "execution_count": 100,
     "metadata": {},
     "output_type": "execute_result"
    }
   ],
   "source": [
    "roc_curve(y, predic, pos_label=None) #En clase se usó pos_label=2"
   ]
  },
  {
   "cell_type": "code",
   "execution_count": 101,
   "id": "9bea5806",
   "metadata": {},
   "outputs": [],
   "source": [
    "fpr, tpr, _ = roc_curve(y, predic, pos_label=None)"
   ]
  },
  {
   "cell_type": "code",
   "execution_count": 102,
   "id": "b32f548d",
   "metadata": {
    "scrolled": true
   },
   "outputs": [
    {
     "data": {
      "image/png": "[encoded data removed]",
      "text/plain": [
       "<Figure size 432x288 with 1 Axes>"
      ]
     },
     "metadata": {
      "needs_background": "light"
     },
     "output_type": "display_data"
    }
   ],
   "source": [
    "roc_display = RocCurveDisplay(fpr=fpr, tpr=tpr).plot()"
   ]
  },
  {
   "cell_type": "code",
   "execution_count": 103,
   "id": "38e72202",
   "metadata": {},
   "outputs": [
    {
     "data": {
      "text/plain": [
       "0.7887392733213203"
      ]
     },
     "execution_count": 103,
     "metadata": {},
     "output_type": "execute_result"
    }
   ],
   "source": [
    "roc_auc_score(y, clf_dt.predict(X_encoded), multi_class='ovr')"
   ]
  },
  {
   "cell_type": "code",
   "execution_count": 104,
   "id": "e47aaeef",
   "metadata": {},
   "outputs": [],
   "source": [
    "from sklearn.ensemble import RandomForestClassifier"
   ]
  },
  {
   "cell_type": "code",
   "execution_count": 105,
   "id": "036aa276",
   "metadata": {},
   "outputs": [],
   "source": [
    "RFC = RandomForestClassifier(max_depth=2)"
   ]
  },
  {
   "cell_type": "code",
   "execution_count": 106,
   "id": "7594a563",
   "metadata": {},
   "outputs": [
    {
     "data": {
      "text/plain": [
       "RandomForestClassifier(max_depth=2)"
      ]
     },
     "execution_count": 106,
     "metadata": {},
     "output_type": "execute_result"
    }
   ],
   "source": [
    "RFC.fit(X_encoded,y)"
   ]
  },
  {
   "cell_type": "code",
   "execution_count": 107,
   "id": "125dd0d6",
   "metadata": {},
   "outputs": [],
   "source": [
    "predic = RFC.predict(X_encoded)"
   ]
  },
  {
   "cell_type": "code",
   "execution_count": 108,
   "id": "bef80441",
   "metadata": {},
   "outputs": [
    {
     "data": {
      "text/plain": [
       "0.5831331331331331"
      ]
     },
     "execution_count": 108,
     "metadata": {},
     "output_type": "execute_result"
    }
   ],
   "source": [
    "accuracy_score(y, predic)"
   ]
  },
  {
   "cell_type": "code",
   "execution_count": null,
   "id": "f3c3e089",
   "metadata": {},
   "outputs": [],
   "source": []
  },
  {
   "cell_type": "code",
   "execution_count": 109,
   "id": "f7a3c818",
   "metadata": {},
   "outputs": [
    {
     "name": "stdout",
     "output_type": "stream",
     "text": [
      "              precision    recall  f1-score   support\n",
      "\n",
      "           0       0.58      0.99      0.73     11325\n",
      "           1       0.87      0.04      0.08      8655\n",
      "\n",
      "    accuracy                           0.58     19980\n",
      "   macro avg       0.72      0.52      0.41     19980\n",
      "weighted avg       0.70      0.58      0.45     19980\n",
      "\n"
     ]
    }
   ],
   "source": [
    "print(classification_report(y, predic))"
   ]
  },
  {
   "cell_type": "markdown",
   "id": "0c5de96a",
   "metadata": {},
   "source": [
    "# Gradient BoostingClassifier"
   ]
  },
  {
   "cell_type": "code",
   "execution_count": 110,
   "id": "3b4023e1",
   "metadata": {},
   "outputs": [],
   "source": [
    "from sklearn.ensemble import GradientBoostingClassifier"
   ]
  },
  {
   "cell_type": "code",
   "execution_count": 111,
   "id": "66f718f6",
   "metadata": {},
   "outputs": [],
   "source": [
    "GBC = GradientBoostingClassifier(n_estimators=100, learning_rate=1.0,\n",
    "                                 max_depth=1)"
   ]
  },
  {
   "cell_type": "code",
   "execution_count": 112,
   "id": "2fe7d131",
   "metadata": {},
   "outputs": [
    {
     "data": {
      "text/plain": [
       "GradientBoostingClassifier(learning_rate=1.0, max_depth=1)"
      ]
     },
     "execution_count": 112,
     "metadata": {},
     "output_type": "execute_result"
    }
   ],
   "source": [
    "GBC.fit(X_encoded, y)"
   ]
  },
  {
   "cell_type": "code",
   "execution_count": 113,
   "id": "227a8f87",
   "metadata": {},
   "outputs": [],
   "source": [
    "predic = GBC.predict(X_encoded)"
   ]
  },
  {
   "cell_type": "code",
   "execution_count": 114,
   "id": "dda4ab16",
   "metadata": {},
   "outputs": [
    {
     "data": {
      "text/plain": [
       "0.7336336336336337"
      ]
     },
     "execution_count": 114,
     "metadata": {},
     "output_type": "execute_result"
    }
   ],
   "source": [
    "accuracy_score(y, predic)"
   ]
  },
  {
   "cell_type": "code",
   "execution_count": null,
   "id": "38296ed1",
   "metadata": {},
   "outputs": [],
   "source": []
  },
  {
   "cell_type": "code",
   "execution_count": null,
   "id": "cb968a46",
   "metadata": {},
   "outputs": [],
   "source": []
  },
  {
   "cell_type": "code",
   "execution_count": null,
   "id": "8f72fe67",
   "metadata": {},
   "outputs": [],
   "source": []
  },
  {
   "cell_type": "code",
   "execution_count": 115,
   "id": "1da3aba0",
   "metadata": {},
   "outputs": [],
   "source": [
    "from sklearn.metrics import confusion_matrix,accuracy_score, classification_report, roc_curve"
   ]
  },
  {
   "cell_type": "code",
   "execution_count": 116,
   "id": "439f613e",
   "metadata": {},
   "outputs": [
    {
     "name": "stderr",
     "output_type": "stream",
     "text": [
      "C:\\Users\\Lesli\\anaconda3\\lib\\site-packages\\sklearn\\utils\\deprecation.py:87: FutureWarning: Function plot_confusion_matrix is deprecated; Function `plot_confusion_matrix` is deprecated in 1.0 and will be removed in 1.2. Use one of the class methods: ConfusionMatrixDisplay.from_predictions or ConfusionMatrixDisplay.from_estimator.\n",
      "  warnings.warn(msg, category=FutureWarning)\n"
     ]
    },
    {
     "data": {
      "text/plain": [
       "<sklearn.metrics._plot.confusion_matrix.ConfusionMatrixDisplay at 0x1d9088361f0>"
      ]
     },
     "execution_count": 116,
     "metadata": {},
     "output_type": "execute_result"
    },
    {
     "data": {
      "image/png": "[encoded data removed]",
      "text/plain": [
       "<Figure size 432x288 with 2 Axes>"
      ]
     },
     "metadata": {
      "needs_background": "light"
     },
     "output_type": "display_data"
    }
   ],
   "source": [
    "plot_confusion_matrix(clf_dt, X_test, y_test, display_labels=[\"Conocido\", \"Desconocido\"])"
   ]
  },
  {
   "cell_type": "code",
   "execution_count": 117,
   "id": "8bbc3f9a",
   "metadata": {},
   "outputs": [],
   "source": [
    "predic = clf_dt.predict(X_test)"
   ]
  },
  {
   "cell_type": "code",
   "execution_count": 118,
   "id": "e0608744",
   "metadata": {},
   "outputs": [
    {
     "data": {
      "text/plain": [
       "0.7715715715715715"
      ]
     },
     "execution_count": 118,
     "metadata": {},
     "output_type": "execute_result"
    }
   ],
   "source": [
    "accuracy_score(y_test, predic)"
   ]
  },
  {
   "cell_type": "code",
   "execution_count": 119,
   "id": "69b0b7a6",
   "metadata": {},
   "outputs": [
    {
     "data": {
      "text/html": [
       "<div>\n",
       "<style scoped>\n",
       "    .dataframe tbody tr th:only-of-type {\n",
       "        vertical-align: middle;\n",
       "    }\n",
       "\n",
       "    .dataframe tbody tr th {\n",
       "        vertical-align: top;\n",
       "    }\n",
       "\n",
       "    .dataframe thead th {\n",
       "        text-align: right;\n",
       "    }\n",
       "</style>\n",
       "<table border=\"1\" class=\"dataframe\">\n",
       "  <thead>\n",
       "    <tr style=\"text-align: right;\">\n",
       "      <th>Predicted</th>\n",
       "      <th>0</th>\n",
       "      <th>1</th>\n",
       "      <th>All</th>\n",
       "    </tr>\n",
       "    <tr>\n",
       "      <th>True</th>\n",
       "      <th></th>\n",
       "      <th></th>\n",
       "      <th></th>\n",
       "    </tr>\n",
       "  </thead>\n",
       "  <tbody>\n",
       "    <tr>\n",
       "      <th>0</th>\n",
       "      <td>1947</td>\n",
       "      <td>877</td>\n",
       "      <td>2824</td>\n",
       "    </tr>\n",
       "    <tr>\n",
       "      <th>1</th>\n",
       "      <td>264</td>\n",
       "      <td>1907</td>\n",
       "      <td>2171</td>\n",
       "    </tr>\n",
       "    <tr>\n",
       "      <th>All</th>\n",
       "      <td>2211</td>\n",
       "      <td>2784</td>\n",
       "      <td>4995</td>\n",
       "    </tr>\n",
       "  </tbody>\n",
       "</table>\n",
       "</div>"
      ],
      "text/plain": [
       "Predicted     0     1   All\n",
       "True                       \n",
       "0          1947   877  2824\n",
       "1           264  1907  2171\n",
       "All        2211  2784  4995"
      ]
     },
     "execution_count": 119,
     "metadata": {},
     "output_type": "execute_result"
    }
   ],
   "source": [
    "pd.crosstab(y_test, predic, rownames=['True'], colnames=['Predicted'], margins=True)"
   ]
  },
  {
   "cell_type": "code",
   "execution_count": 120,
   "id": "f8edcf1e",
   "metadata": {},
   "outputs": [
    {
     "name": "stdout",
     "output_type": "stream",
     "text": [
      "              precision    recall  f1-score   support\n",
      "\n",
      "           0       0.88      0.69      0.77      2824\n",
      "           1       0.68      0.88      0.77      2171\n",
      "\n",
      "    accuracy                           0.77      4995\n",
      "   macro avg       0.78      0.78      0.77      4995\n",
      "weighted avg       0.80      0.77      0.77      4995\n",
      "\n"
     ]
    }
   ],
   "source": [
    "print(classification_report(y_test, predic))"
   ]
  },
  {
   "cell_type": "code",
   "execution_count": 121,
   "id": "1e34a6aa",
   "metadata": {},
   "outputs": [],
   "source": [
    "predic = clf_dt.predict(X_train)"
   ]
  },
  {
   "cell_type": "code",
   "execution_count": 122,
   "id": "c857c4e1",
   "metadata": {},
   "outputs": [
    {
     "data": {
      "text/plain": [
       "0.7780447113780448"
      ]
     },
     "execution_count": 122,
     "metadata": {},
     "output_type": "execute_result"
    }
   ],
   "source": [
    "accuracy_score(y_train, predic)"
   ]
  },
  {
   "cell_type": "code",
   "execution_count": 123,
   "id": "d8ede2e8",
   "metadata": {},
   "outputs": [
    {
     "name": "stdout",
     "output_type": "stream",
     "text": [
      "              precision    recall  f1-score   support\n",
      "\n",
      "           0       0.89      0.70      0.78      8501\n",
      "           1       0.69      0.88      0.77      6484\n",
      "\n",
      "    accuracy                           0.78     14985\n",
      "   macro avg       0.79      0.79      0.78     14985\n",
      "weighted avg       0.80      0.78      0.78     14985\n",
      "\n"
     ]
    }
   ],
   "source": [
    "print(classification_report(y_train, predic))"
   ]
  }
 ],
 "metadata": {
  "kernelspec": {
   "display_name": "Python 3 (ipykernel)",
   "language": "python",
   "name": "python3"
  },
  "language_info": {
   "codemirror_mode": {
    "name": "ipython",
    "version": 3
   },
   "file_extension": ".py",
   "mimetype": "text/x-python",
   "name": "python",
   "nbconvert_exporter": "python",
   "pygments_lexer": "ipython3",
   "version": "3.9.12"
  }
 },
 "nbformat": 4,
 "nbformat_minor": 5
}
